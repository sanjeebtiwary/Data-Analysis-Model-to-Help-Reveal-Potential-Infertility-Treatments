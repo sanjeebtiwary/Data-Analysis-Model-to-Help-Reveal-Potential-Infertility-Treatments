{
 "cells": [
  {
   "cell_type": "code",
   "execution_count": 1,
   "id": "056ac778",
   "metadata": {},
   "outputs": [],
   "source": [
    "import os\n",
    "os.environ['TF_ENABLE_TENSORRT_OPS'] = '0'"
   ]
  },
  {
   "cell_type": "code",
   "execution_count": 2,
   "id": "2ed7dc35",
   "metadata": {},
   "outputs": [],
   "source": [
    "import pandas as pd\n",
    "import numpy as np"
   ]
  },
  {
   "cell_type": "code",
   "execution_count": 3,
   "id": "e02132fa",
   "metadata": {},
   "outputs": [],
   "source": [
    "df = pd.read_csv('PCOS_infertility.csv')"
   ]
  },
  {
   "cell_type": "code",
   "execution_count": 4,
   "id": "5eccccc7",
   "metadata": {},
   "outputs": [],
   "source": [
    "df = df.drop(['Sl. No'], axis=1)\n",
    "df = df.drop(['Patient File No.'], axis=1)\n",
    "# Dropping those column which will not be necessary in case of prediction"
   ]
  },
  {
   "cell_type": "code",
   "execution_count": 5,
   "id": "309a7dce",
   "metadata": {},
   "outputs": [
    {
     "data": {
      "text/plain": [
       "PCOS (Y/N)                1\n",
       "  I   beta-HCG(mIU/mL)    1\n",
       "II    beta-HCG(mIU/mL)    1\n",
       "AMH(ng/mL)                1\n",
       "dtype: int64"
      ]
     },
     "execution_count": 5,
     "metadata": {},
     "output_type": "execute_result"
    }
   ],
   "source": [
    "df.isna().sum()"
   ]
  },
  {
   "cell_type": "code",
   "execution_count": 6,
   "id": "c3e2ef3c",
   "metadata": {},
   "outputs": [],
   "source": [
    "df.dropna(axis=0, inplace=True)"
   ]
  },
  {
   "cell_type": "code",
   "execution_count": 7,
   "id": "fc6f4c08",
   "metadata": {},
   "outputs": [
    {
     "data": {
      "text/plain": [
       "PCOS (Y/N)                0\n",
       "  I   beta-HCG(mIU/mL)    0\n",
       "II    beta-HCG(mIU/mL)    0\n",
       "AMH(ng/mL)                0\n",
       "dtype: int64"
      ]
     },
     "execution_count": 7,
     "metadata": {},
     "output_type": "execute_result"
    }
   ],
   "source": [
    "df.isna().sum()"
   ]
  },
  {
   "cell_type": "code",
   "execution_count": 8,
   "id": "81055e71",
   "metadata": {},
   "outputs": [],
   "source": [
    "X = df.drop(['PCOS (Y/N)'],axis=1).values\n",
    "y = df['PCOS (Y/N)'].values"
   ]
  },
  {
   "cell_type": "code",
   "execution_count": 9,
   "id": "5cea906e",
   "metadata": {},
   "outputs": [
    {
     "data": {
      "text/plain": [
       "(540, 3)"
      ]
     },
     "execution_count": 9,
     "metadata": {},
     "output_type": "execute_result"
    }
   ],
   "source": [
    "X.shape"
   ]
  },
  {
   "cell_type": "code",
   "execution_count": 10,
   "id": "03a75212",
   "metadata": {},
   "outputs": [
    {
     "data": {
      "text/plain": [
       "(540,)"
      ]
     },
     "execution_count": 10,
     "metadata": {},
     "output_type": "execute_result"
    }
   ],
   "source": [
    "y.shape"
   ]
  },
  {
   "cell_type": "code",
   "execution_count": 11,
   "id": "427b6649",
   "metadata": {},
   "outputs": [],
   "source": [
    "from sklearn.model_selection import train_test_split\n",
    "X_train, X_test, y_train, y_test = train_test_split(X, y ,test_size = 0.2, shuffle=True)"
   ]
  },
  {
   "cell_type": "code",
   "execution_count": 12,
   "id": "9ffe8fc9",
   "metadata": {},
   "outputs": [],
   "source": [
    "X_train = np.array(X_train).astype('float32')\n",
    "y_train = np.array(y_train).astype('float32')"
   ]
  },
  {
   "cell_type": "code",
   "execution_count": 13,
   "id": "238b525f",
   "metadata": {},
   "outputs": [],
   "source": [
    "X_test = np.array(X_test).astype('float32')\n",
    "y_test = np.array(y_test).astype('float32')"
   ]
  },
  {
   "cell_type": "code",
   "execution_count": 14,
   "id": "a6e8b3ba",
   "metadata": {},
   "outputs": [
    {
     "data": {
      "text/plain": [
       "((432, 3), (108, 3))"
      ]
     },
     "execution_count": 14,
     "metadata": {},
     "output_type": "execute_result"
    }
   ],
   "source": [
    "X_train.shape, X_test.shape"
   ]
  },
  {
   "cell_type": "code",
   "execution_count": 15,
   "id": "523b2550",
   "metadata": {},
   "outputs": [
    {
     "data": {
      "text/plain": [
       "((432,), (108,))"
      ]
     },
     "execution_count": 15,
     "metadata": {},
     "output_type": "execute_result"
    }
   ],
   "source": [
    "y_train.shape, y_test.shape"
   ]
  },
  {
   "cell_type": "code",
   "execution_count": 16,
   "id": "61b26a11",
   "metadata": {},
   "outputs": [],
   "source": [
    "from sklearn.ensemble import RandomForestClassifier\n",
    "from sklearn.svm import SVC\n",
    "from sklearn.metrics import accuracy_score\n",
    "from sklearn.model_selection import train_test_split"
   ]
  },
  {
   "cell_type": "code",
   "execution_count": 17,
   "id": "0695eab1",
   "metadata": {},
   "outputs": [
    {
     "name": "stdout",
     "output_type": "stream",
     "text": [
      "Accuracy: 0.5648148148148148\n"
     ]
    }
   ],
   "source": [
    "rf = RandomForestClassifier(n_estimators=100, random_state=42)\n",
    "rf.fit(X_train, y_train)\n",
    "svm = SVC(kernel='linear', C=1, random_state=42)\n",
    "svm.fit(X_train, y_train)\n",
    "y_pred_rf = rf.predict(X_test)\n",
    "y_pred_svm = svm.predict(X_test)\n",
    "y_pred = np.array([1 if (y_pred_rf[i] == 1 or y_pred_svm[i] == 1) else 0 for i in range(len(y_test))])\n",
    "print(f\"Accuracy:\", accuracy_score(y_test, y_pred))"
   ]
  },
  {
   "cell_type": "code",
   "execution_count": 18,
   "id": "a7437599",
   "metadata": {},
   "outputs": [
    {
     "name": "stdout",
     "output_type": "stream",
     "text": [
      "Accuracy : 0.6388888888888888\n"
     ]
    }
   ],
   "source": [
    "rf = RandomForestClassifier(n_estimators=100, random_state=42)\n",
    "rf.fit(X_train, y_train)\n",
    "svm = SVC(kernel='linear', C=1, random_state=42)\n",
    "svm.fit(X_train, y_train)\n",
    "y_pred_rf = rf.predict(X_test)\n",
    "y_pred_svm = svm.predict(X_test)\n",
    "y_pred = np.array([1 if (y_pred_rf[i] == 1 and y_pred_svm[i] == 1) else 0 for i in range(len(y_test))])\n",
    "print(f\"Accuracy :\", accuracy_score(y_test, y_pred))"
   ]
  },
  {
   "cell_type": "code",
   "execution_count": 19,
   "id": "fca7d8a7",
   "metadata": {},
   "outputs": [],
   "source": [
    "# svm = SVC(kernel='linear', C=1, random_state=42)\n",
    "# svm.fit(X_train, y_train)"
   ]
  },
  {
   "cell_type": "code",
   "execution_count": 20,
   "id": "6d6c6819",
   "metadata": {},
   "outputs": [],
   "source": [
    "# y_pred_rf = rf.predict(X_test)\n",
    "# y_pred_svm = svm.predict(X_test)"
   ]
  },
  {
   "cell_type": "code",
   "execution_count": 21,
   "id": "957057e7",
   "metadata": {},
   "outputs": [],
   "source": [
    "# y_pred = np.array([1 if (y_pred_rf[i] == 1 or y_pred_svm[i] == 1) else 0 for i in range(len(y_test))])"
   ]
  },
  {
   "cell_type": "code",
   "execution_count": 22,
   "id": "e3050bf5",
   "metadata": {},
   "outputs": [],
   "source": [
    "# print(\"Accuracy:\", accuracy_score(y_test, y_pred))"
   ]
  },
  {
   "cell_type": "code",
   "execution_count": null,
   "id": "609e0b72",
   "metadata": {},
   "outputs": [],
   "source": []
  }
 ],
 "metadata": {
  "kernelspec": {
   "display_name": "Python 3 (ipykernel)",
   "language": "python",
   "name": "python3"
  },
  "language_info": {
   "codemirror_mode": {
    "name": "ipython",
    "version": 3
   },
   "file_extension": ".py",
   "mimetype": "text/x-python",
   "name": "python",
   "nbconvert_exporter": "python",
   "pygments_lexer": "ipython3",
   "version": "3.10.6"
  }
 },
 "nbformat": 4,
 "nbformat_minor": 5
}
