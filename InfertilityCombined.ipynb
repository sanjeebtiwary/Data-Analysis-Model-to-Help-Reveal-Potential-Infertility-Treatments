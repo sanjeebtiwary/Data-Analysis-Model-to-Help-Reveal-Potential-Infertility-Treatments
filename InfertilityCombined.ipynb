{
 "cells": [
  {
   "cell_type": "code",
   "execution_count": 1,
   "id": "d38b447c",
   "metadata": {},
   "outputs": [],
   "source": [
    "import os\n",
    "os.environ['TF_ENABLE_TENSORRT_OPS'] = '0'"
   ]
  },
  {
   "cell_type": "code",
   "execution_count": 2,
   "id": "a7022dd0",
   "metadata": {},
   "outputs": [],
   "source": [
    "import numpy as np\n",
    "import pandas as pd"
   ]
  },
  {
   "cell_type": "code",
   "execution_count": 3,
   "id": "a9004ca2",
   "metadata": {},
   "outputs": [],
   "source": [
    "data1 = pd.read_csv('PCOS_infertility.csv')\n",
    "data2 = pd.read_csv('data without infertility _final.csv')"
   ]
  },
  {
   "cell_type": "code",
   "execution_count": 4,
   "id": "105e8652",
   "metadata": {},
   "outputs": [
    {
     "data": {
      "text/plain": [
       "Index(['Sl. No', 'Patient File No.', 'PCOS (Y/N)', '  I   beta-HCG(mIU/mL)',\n",
       "       'II    beta-HCG(mIU/mL)', 'AMH(ng/mL)'],\n",
       "      dtype='object')"
      ]
     },
     "execution_count": 4,
     "metadata": {},
     "output_type": "execute_result"
    }
   ],
   "source": [
    "data1.columns"
   ]
  },
  {
   "cell_type": "code",
   "execution_count": 5,
   "id": "66b58f9f",
   "metadata": {},
   "outputs": [
    {
     "data": {
      "text/plain": [
       "Index(['Sl. No', 'Patient File No.', 'PCOS (Y/N)', ' Age (yrs)', 'Weight (Kg)',\n",
       "       'Height(Cm) ', 'BMI', 'Blood Group', 'Pulse rate(bpm) ',\n",
       "       'RR (breaths/min)', 'Hb(g/dl)', 'Cycle(R/I)', 'Cycle length(days)',\n",
       "       'Marraige Status (Yrs)', 'Pregnant(Y/N)', 'No. of aborptions',\n",
       "       'FSH(mIU/mL)', 'LH(mIU/mL)', 'FSH/LH', 'Hip(inch)', 'Waist(inch)',\n",
       "       'Waist:Hip Ratio', 'TSH (mIU/L)', 'AMH(ng/mL)', 'PRL(ng/mL)',\n",
       "       'Vit D3 (ng/mL)', 'PRG(ng/mL)', 'RBS(mg/dl)', 'Weight gain(Y/N)',\n",
       "       'hair growth(Y/N)', 'Skin darkening (Y/N)', 'Hair loss(Y/N)',\n",
       "       'Pimples(Y/N)', 'Fast food (Y/N)', 'Reg.Exercise(Y/N)',\n",
       "       'BP _Systolic (mmHg)', 'BP _Diastolic (mmHg)', 'Follicle No. (L)',\n",
       "       'Follicle No. (R)', 'Avg. F size (L) (mm)', 'Avg. F size (R) (mm)',\n",
       "       'Endometrium (mm)', 'Unnamed: 42'],\n",
       "      dtype='object')"
      ]
     },
     "execution_count": 5,
     "metadata": {},
     "output_type": "execute_result"
    }
   ],
   "source": [
    "data2.columns"
   ]
  },
  {
   "cell_type": "code",
   "execution_count": 6,
   "id": "cf59637e",
   "metadata": {},
   "outputs": [],
   "source": [
    "df = pd.concat([data1, data2], axis=1)"
   ]
  },
  {
   "cell_type": "code",
   "execution_count": 7,
   "id": "31da49de",
   "metadata": {},
   "outputs": [
    {
     "data": {
      "text/html": [
       "<div>\n",
       "<style scoped>\n",
       "    .dataframe tbody tr th:only-of-type {\n",
       "        vertical-align: middle;\n",
       "    }\n",
       "\n",
       "    .dataframe tbody tr th {\n",
       "        vertical-align: top;\n",
       "    }\n",
       "\n",
       "    .dataframe thead th {\n",
       "        text-align: right;\n",
       "    }\n",
       "</style>\n",
       "<table border=\"1\" class=\"dataframe\">\n",
       "  <thead>\n",
       "    <tr style=\"text-align: right;\">\n",
       "      <th></th>\n",
       "      <th>Sl. No</th>\n",
       "      <th>Patient File No.</th>\n",
       "      <th>PCOS (Y/N)</th>\n",
       "      <th>I   beta-HCG(mIU/mL)</th>\n",
       "      <th>II    beta-HCG(mIU/mL)</th>\n",
       "      <th>AMH(ng/mL)</th>\n",
       "      <th>Sl. No</th>\n",
       "      <th>Patient File No.</th>\n",
       "      <th>PCOS (Y/N)</th>\n",
       "      <th>Age (yrs)</th>\n",
       "      <th>...</th>\n",
       "      <th>Fast food (Y/N)</th>\n",
       "      <th>Reg.Exercise(Y/N)</th>\n",
       "      <th>BP _Systolic (mmHg)</th>\n",
       "      <th>BP _Diastolic (mmHg)</th>\n",
       "      <th>Follicle No. (L)</th>\n",
       "      <th>Follicle No. (R)</th>\n",
       "      <th>Avg. F size (L) (mm)</th>\n",
       "      <th>Avg. F size (R) (mm)</th>\n",
       "      <th>Endometrium (mm)</th>\n",
       "      <th>Unnamed: 42</th>\n",
       "    </tr>\n",
       "  </thead>\n",
       "  <tbody>\n",
       "    <tr>\n",
       "      <th>0</th>\n",
       "      <td>1</td>\n",
       "      <td>10001</td>\n",
       "      <td>0</td>\n",
       "      <td>1.99</td>\n",
       "      <td>1.99</td>\n",
       "      <td>2.07</td>\n",
       "      <td>1.0</td>\n",
       "      <td>10001.0</td>\n",
       "      <td>0.0</td>\n",
       "      <td>28.0</td>\n",
       "      <td>...</td>\n",
       "      <td>1.0</td>\n",
       "      <td>0.0</td>\n",
       "      <td>110.0</td>\n",
       "      <td>80.0</td>\n",
       "      <td>3.0</td>\n",
       "      <td>3.0</td>\n",
       "      <td>18.0</td>\n",
       "      <td>18.0</td>\n",
       "      <td>8.5</td>\n",
       "      <td>NaN</td>\n",
       "    </tr>\n",
       "    <tr>\n",
       "      <th>1</th>\n",
       "      <td>2</td>\n",
       "      <td>10002</td>\n",
       "      <td>0</td>\n",
       "      <td>60.80</td>\n",
       "      <td>1.99</td>\n",
       "      <td>1.53</td>\n",
       "      <td>2.0</td>\n",
       "      <td>10002.0</td>\n",
       "      <td>0.0</td>\n",
       "      <td>36.0</td>\n",
       "      <td>...</td>\n",
       "      <td>0.0</td>\n",
       "      <td>0.0</td>\n",
       "      <td>120.0</td>\n",
       "      <td>70.0</td>\n",
       "      <td>3.0</td>\n",
       "      <td>5.0</td>\n",
       "      <td>15.0</td>\n",
       "      <td>14.0</td>\n",
       "      <td>3.7</td>\n",
       "      <td>NaN</td>\n",
       "    </tr>\n",
       "    <tr>\n",
       "      <th>2</th>\n",
       "      <td>3</td>\n",
       "      <td>10003</td>\n",
       "      <td>1</td>\n",
       "      <td>494.08</td>\n",
       "      <td>494.08</td>\n",
       "      <td>6.63</td>\n",
       "      <td>3.0</td>\n",
       "      <td>10003.0</td>\n",
       "      <td>1.0</td>\n",
       "      <td>33.0</td>\n",
       "      <td>...</td>\n",
       "      <td>1.0</td>\n",
       "      <td>0.0</td>\n",
       "      <td>120.0</td>\n",
       "      <td>80.0</td>\n",
       "      <td>13.0</td>\n",
       "      <td>15.0</td>\n",
       "      <td>18.0</td>\n",
       "      <td>20.0</td>\n",
       "      <td>10.0</td>\n",
       "      <td>NaN</td>\n",
       "    </tr>\n",
       "    <tr>\n",
       "      <th>3</th>\n",
       "      <td>4</td>\n",
       "      <td>10004</td>\n",
       "      <td>0</td>\n",
       "      <td>1.99</td>\n",
       "      <td>1.99</td>\n",
       "      <td>1.22</td>\n",
       "      <td>4.0</td>\n",
       "      <td>10004.0</td>\n",
       "      <td>0.0</td>\n",
       "      <td>37.0</td>\n",
       "      <td>...</td>\n",
       "      <td>0.0</td>\n",
       "      <td>0.0</td>\n",
       "      <td>120.0</td>\n",
       "      <td>70.0</td>\n",
       "      <td>2.0</td>\n",
       "      <td>2.0</td>\n",
       "      <td>15.0</td>\n",
       "      <td>14.0</td>\n",
       "      <td>7.5</td>\n",
       "      <td>NaN</td>\n",
       "    </tr>\n",
       "    <tr>\n",
       "      <th>4</th>\n",
       "      <td>5</td>\n",
       "      <td>10005</td>\n",
       "      <td>0</td>\n",
       "      <td>801.45</td>\n",
       "      <td>801.45</td>\n",
       "      <td>2.26</td>\n",
       "      <td>5.0</td>\n",
       "      <td>10005.0</td>\n",
       "      <td>0.0</td>\n",
       "      <td>25.0</td>\n",
       "      <td>...</td>\n",
       "      <td>0.0</td>\n",
       "      <td>0.0</td>\n",
       "      <td>120.0</td>\n",
       "      <td>80.0</td>\n",
       "      <td>3.0</td>\n",
       "      <td>4.0</td>\n",
       "      <td>16.0</td>\n",
       "      <td>14.0</td>\n",
       "      <td>7.0</td>\n",
       "      <td>NaN</td>\n",
       "    </tr>\n",
       "  </tbody>\n",
       "</table>\n",
       "<p>5 rows × 49 columns</p>\n",
       "</div>"
      ],
      "text/plain": [
       "   Sl. No  Patient File No.  PCOS (Y/N)    I   beta-HCG(mIU/mL)  \\\n",
       "0       1             10001           0                    1.99   \n",
       "1       2             10002           0                   60.80   \n",
       "2       3             10003           1                  494.08   \n",
       "3       4             10004           0                    1.99   \n",
       "4       5             10005           0                  801.45   \n",
       "\n",
       "   II    beta-HCG(mIU/mL) AMH(ng/mL)  Sl. No  Patient File No.  PCOS (Y/N)  \\\n",
       "0                    1.99       2.07     1.0           10001.0         0.0   \n",
       "1                    1.99       1.53     2.0           10002.0         0.0   \n",
       "2                  494.08       6.63     3.0           10003.0         1.0   \n",
       "3                    1.99       1.22     4.0           10004.0         0.0   \n",
       "4                  801.45       2.26     5.0           10005.0         0.0   \n",
       "\n",
       "    Age (yrs)  ...  Fast food (Y/N)  Reg.Exercise(Y/N)  BP _Systolic (mmHg)  \\\n",
       "0        28.0  ...              1.0                0.0                110.0   \n",
       "1        36.0  ...              0.0                0.0                120.0   \n",
       "2        33.0  ...              1.0                0.0                120.0   \n",
       "3        37.0  ...              0.0                0.0                120.0   \n",
       "4        25.0  ...              0.0                0.0                120.0   \n",
       "\n",
       "   BP _Diastolic (mmHg)  Follicle No. (L)  Follicle No. (R)  \\\n",
       "0                  80.0               3.0               3.0   \n",
       "1                  70.0               3.0               5.0   \n",
       "2                  80.0              13.0              15.0   \n",
       "3                  70.0               2.0               2.0   \n",
       "4                  80.0               3.0               4.0   \n",
       "\n",
       "   Avg. F size (L) (mm)  Avg. F size (R) (mm)  Endometrium (mm)  Unnamed: 42  \n",
       "0                  18.0                  18.0               8.5          NaN  \n",
       "1                  15.0                  14.0               3.7          NaN  \n",
       "2                  18.0                  20.0              10.0          NaN  \n",
       "3                  15.0                  14.0               7.5          NaN  \n",
       "4                  16.0                  14.0               7.0          NaN  \n",
       "\n",
       "[5 rows x 49 columns]"
      ]
     },
     "execution_count": 7,
     "metadata": {},
     "output_type": "execute_result"
    }
   ],
   "source": [
    "df.head(5)#for accessing the first 5 datas"
   ]
  },
  {
   "cell_type": "code",
   "execution_count": 8,
   "id": "ac08eb2d",
   "metadata": {},
   "outputs": [
    {
     "data": {
      "text/plain": [
       "(541, 49)"
      ]
     },
     "execution_count": 8,
     "metadata": {},
     "output_type": "execute_result"
    }
   ],
   "source": [
    "df.shape #shape of the data"
   ]
  },
  {
   "cell_type": "code",
   "execution_count": 9,
   "id": "7a30b318",
   "metadata": {},
   "outputs": [],
   "source": [
    "df = df.drop(['Sl. No'], axis=1)\n",
    "df = df.drop(['Patient File No.'], axis=1)\n",
    "# Dropping those column which will not be necessary in case of prediction"
   ]
  },
  {
   "cell_type": "code",
   "execution_count": 10,
   "id": "505696cc",
   "metadata": {},
   "outputs": [
    {
     "data": {
      "text/plain": [
       "(541, 45)"
      ]
     },
     "execution_count": 10,
     "metadata": {},
     "output_type": "execute_result"
    }
   ],
   "source": [
    "df.shape"
   ]
  },
  {
   "cell_type": "code",
   "execution_count": 11,
   "id": "9a1bad2b",
   "metadata": {},
   "outputs": [
    {
     "data": {
      "text/plain": [
       "PCOS (Y/N)                  0\n",
       "  I   beta-HCG(mIU/mL)      0\n",
       "II    beta-HCG(mIU/mL)      0\n",
       "AMH(ng/mL)                  0\n",
       "PCOS (Y/N)                  1\n",
       " Age (yrs)                  1\n",
       "Weight (Kg)                 1\n",
       "Height(Cm)                  1\n",
       "BMI                         1\n",
       "Blood Group                 1\n",
       "Pulse rate(bpm)             1\n",
       "RR (breaths/min)            1\n",
       "Hb(g/dl)                    1\n",
       "Cycle(R/I)                  1\n",
       "Cycle length(days)          1\n",
       "Marraige Status (Yrs)       2\n",
       "Pregnant(Y/N)               1\n",
       "No. of aborptions           1\n",
       "FSH(mIU/mL)                 1\n",
       "LH(mIU/mL)                  1\n",
       "FSH/LH                      1\n",
       "Hip(inch)                   1\n",
       "Waist(inch)                 1\n",
       "Waist:Hip Ratio             1\n",
       "TSH (mIU/L)                 1\n",
       "AMH(ng/mL)                  1\n",
       "PRL(ng/mL)                  1\n",
       "Vit D3 (ng/mL)              1\n",
       "PRG(ng/mL)                  1\n",
       "RBS(mg/dl)                  1\n",
       "Weight gain(Y/N)            1\n",
       "hair growth(Y/N)            1\n",
       "Skin darkening (Y/N)        1\n",
       "Hair loss(Y/N)              1\n",
       "Pimples(Y/N)                1\n",
       "Fast food (Y/N)             2\n",
       "Reg.Exercise(Y/N)           1\n",
       "BP _Systolic (mmHg)         1\n",
       "BP _Diastolic (mmHg)        1\n",
       "Follicle No. (L)            1\n",
       "Follicle No. (R)            1\n",
       "Avg. F size (L) (mm)        1\n",
       "Avg. F size (R) (mm)        1\n",
       "Endometrium (mm)            1\n",
       "Unnamed: 42               539\n",
       "dtype: int64"
      ]
     },
     "execution_count": 11,
     "metadata": {},
     "output_type": "execute_result"
    }
   ],
   "source": [
    "df.isna().sum()"
   ]
  },
  {
   "cell_type": "code",
   "execution_count": 12,
   "id": "aaebdb26",
   "metadata": {},
   "outputs": [],
   "source": [
    "df.drop(['Unnamed: 42'], axis=1, inplace=True)"
   ]
  },
  {
   "cell_type": "code",
   "execution_count": 13,
   "id": "6e694f01",
   "metadata": {},
   "outputs": [],
   "source": [
    "df.dropna(axis=0, inplace=True)"
   ]
  },
  {
   "cell_type": "code",
   "execution_count": 14,
   "id": "94653718",
   "metadata": {},
   "outputs": [
    {
     "data": {
      "text/plain": [
       "PCOS (Y/N)                0\n",
       "  I   beta-HCG(mIU/mL)    0\n",
       "II    beta-HCG(mIU/mL)    0\n",
       "AMH(ng/mL)                0\n",
       "PCOS (Y/N)                0\n",
       " Age (yrs)                0\n",
       "Weight (Kg)               0\n",
       "Height(Cm)                0\n",
       "BMI                       0\n",
       "Blood Group               0\n",
       "Pulse rate(bpm)           0\n",
       "RR (breaths/min)          0\n",
       "Hb(g/dl)                  0\n",
       "Cycle(R/I)                0\n",
       "Cycle length(days)        0\n",
       "Marraige Status (Yrs)     0\n",
       "Pregnant(Y/N)             0\n",
       "No. of aborptions         0\n",
       "FSH(mIU/mL)               0\n",
       "LH(mIU/mL)                0\n",
       "FSH/LH                    0\n",
       "Hip(inch)                 0\n",
       "Waist(inch)               0\n",
       "Waist:Hip Ratio           0\n",
       "TSH (mIU/L)               0\n",
       "AMH(ng/mL)                0\n",
       "PRL(ng/mL)                0\n",
       "Vit D3 (ng/mL)            0\n",
       "PRG(ng/mL)                0\n",
       "RBS(mg/dl)                0\n",
       "Weight gain(Y/N)          0\n",
       "hair growth(Y/N)          0\n",
       "Skin darkening (Y/N)      0\n",
       "Hair loss(Y/N)            0\n",
       "Pimples(Y/N)              0\n",
       "Fast food (Y/N)           0\n",
       "Reg.Exercise(Y/N)         0\n",
       "BP _Systolic (mmHg)       0\n",
       "BP _Diastolic (mmHg)      0\n",
       "Follicle No. (L)          0\n",
       "Follicle No. (R)          0\n",
       "Avg. F size (L) (mm)      0\n",
       "Avg. F size (R) (mm)      0\n",
       "Endometrium (mm)          0\n",
       "dtype: int64"
      ]
     },
     "execution_count": 14,
     "metadata": {},
     "output_type": "execute_result"
    }
   ],
   "source": [
    "df.isna().sum()"
   ]
  },
  {
   "cell_type": "code",
   "execution_count": 15,
   "id": "c6f61396",
   "metadata": {},
   "outputs": [],
   "source": [
    "X = df.drop(['PCOS (Y/N)'],axis=1).values\n",
    "#The code is dropping one of the columns of the dataset, \n",
    "# specifically the column whose name is specified in the string 'name of the target column'. \n",
    "# The .drop() method is used to drop a specified column or row from a DataFrame. \n",
    "# The axis=1 argument specifies that we want to drop a column (as opposed to a row) \n",
    "# and the .values at the end of the code is used to return the values of the DataFrame as a numpy array\n",
    "y = df['PCOS (Y/N)'].values\n",
    "\n",
    "# Basically in this code we are taking the target value from the dataset and putting it in a seperate array"
   ]
  },
  {
   "cell_type": "code",
   "execution_count": 16,
   "id": "74b5af9a",
   "metadata": {},
   "outputs": [],
   "source": [
    "y = np.column_stack(np.unique(y, axis=1)).transpose()"
   ]
  },
  {
   "cell_type": "code",
   "execution_count": 17,
   "id": "3d8c1742",
   "metadata": {},
   "outputs": [
    {
     "data": {
      "text/plain": [
       "(538, 1)"
      ]
     },
     "execution_count": 17,
     "metadata": {},
     "output_type": "execute_result"
    }
   ],
   "source": [
    "y.shape"
   ]
  },
  {
   "cell_type": "code",
   "execution_count": 18,
   "id": "bc2d1928",
   "metadata": {},
   "outputs": [],
   "source": [
    "from sklearn.preprocessing import StandardScaler\n",
    "\n",
    "# Create an instance of the StandardScaler\n",
    "scaler = StandardScaler()\n",
    "\n",
    "# Fit the scaler to the data\n",
    "scaler.fit(df)\n",
    "\n",
    "# Transform the data\n",
    "df = scaler.transform(df)"
   ]
  },
  {
   "cell_type": "code",
   "execution_count": null,
   "id": "919071d3",
   "metadata": {},
   "outputs": [],
   "source": []
  },
  {
   "cell_type": "code",
   "execution_count": 19,
   "id": "76a003b0",
   "metadata": {},
   "outputs": [],
   "source": [
    "from sklearn.model_selection import train_test_split\n",
    "X_train, X_test, y_train, y_test = train_test_split(X, y ,test_size = 0.2, shuffle=True)"
   ]
  },
  {
   "cell_type": "code",
   "execution_count": 20,
   "id": "21f9a2c0",
   "metadata": {},
   "outputs": [
    {
     "data": {
      "text/plain": [
       "(430, 42)"
      ]
     },
     "execution_count": 20,
     "metadata": {},
     "output_type": "execute_result"
    }
   ],
   "source": [
    "X_train.shape"
   ]
  },
  {
   "cell_type": "code",
   "execution_count": 21,
   "id": "1566fc9e",
   "metadata": {},
   "outputs": [
    {
     "data": {
      "text/plain": [
       "(430, 1)"
      ]
     },
     "execution_count": 21,
     "metadata": {},
     "output_type": "execute_result"
    }
   ],
   "source": [
    "y_train.shape"
   ]
  },
  {
   "cell_type": "code",
   "execution_count": 22,
   "id": "700f97d8",
   "metadata": {},
   "outputs": [],
   "source": [
    "X_train = np.array(X_train).astype('float32')\n",
    "y_train = np.array(y_train).astype('float32')"
   ]
  },
  {
   "cell_type": "code",
   "execution_count": 23,
   "id": "8f1b0e1d",
   "metadata": {},
   "outputs": [],
   "source": [
    "X_test = np.array(X_test).astype('float32')\n",
    "y_test = np.array(y_test).astype('float32')"
   ]
  },
  {
   "cell_type": "code",
   "execution_count": 24,
   "id": "76097002",
   "metadata": {},
   "outputs": [],
   "source": [
    "#Designing the model#"
   ]
  },
  {
   "cell_type": "code",
   "execution_count": 25,
   "id": "63bf0c8d",
   "metadata": {},
   "outputs": [
    {
     "name": "stderr",
     "output_type": "stream",
     "text": [
      "2023-01-30 02:45:34.476372: I tensorflow/core/platform/cpu_feature_guard.cc:193] This TensorFlow binary is optimized with oneAPI Deep Neural Network Library (oneDNN) to use the following CPU instructions in performance-critical operations:  AVX2 AVX512F AVX512_VNNI FMA\n",
      "To enable them in other operations, rebuild TensorFlow with the appropriate compiler flags.\n",
      "2023-01-30 02:45:34.602123: I tensorflow/core/util/port.cc:104] oneDNN custom operations are on. You may see slightly different numerical results due to floating-point round-off errors from different computation orders. To turn them off, set the environment variable `TF_ENABLE_ONEDNN_OPTS=0`.\n",
      "2023-01-30 02:45:34.605353: W tensorflow/compiler/xla/stream_executor/platform/default/dso_loader.cc:64] Could not load dynamic library 'libcudart.so.11.0'; dlerror: libcudart.so.11.0: cannot open shared object file: No such file or directory\n",
      "2023-01-30 02:45:34.605368: I tensorflow/compiler/xla/stream_executor/cuda/cudart_stub.cc:29] Ignore above cudart dlerror if you do not have a GPU set up on your machine.\n",
      "2023-01-30 02:45:35.895097: W tensorflow/compiler/xla/stream_executor/platform/default/dso_loader.cc:64] Could not load dynamic library 'libnvinfer.so.7'; dlerror: libnvinfer.so.7: cannot open shared object file: No such file or directory\n",
      "2023-01-30 02:45:35.895309: W tensorflow/compiler/xla/stream_executor/platform/default/dso_loader.cc:64] Could not load dynamic library 'libnvinfer_plugin.so.7'; dlerror: libnvinfer_plugin.so.7: cannot open shared object file: No such file or directory\n",
      "2023-01-30 02:45:35.895329: W tensorflow/compiler/tf2tensorrt/utils/py_utils.cc:38] TF-TRT Warning: Cannot dlopen some TensorRT libraries. If you would like to use Nvidia GPU with TensorRT, please make sure the missing libraries mentioned above are installed properly.\n"
     ]
    }
   ],
   "source": [
    "import tensorflow as tf\n",
    "from tensorflow.keras import Sequential\n",
    "from tensorflow.keras.layers import Dense, Dropout, Activation"
   ]
  },
  {
   "cell_type": "code",
   "execution_count": 26,
   "id": "0c44b5cd",
   "metadata": {},
   "outputs": [
    {
     "name": "stderr",
     "output_type": "stream",
     "text": [
      "2023-01-30 02:45:37.177732: I tensorflow/compiler/xla/stream_executor/cuda/cuda_gpu_executor.cc:981] successful NUMA node read from SysFS had negative value (-1), but there must be at least one NUMA node, so returning NUMA node zero\n",
      "2023-01-30 02:45:37.178042: W tensorflow/compiler/xla/stream_executor/platform/default/dso_loader.cc:64] Could not load dynamic library 'libcudart.so.11.0'; dlerror: libcudart.so.11.0: cannot open shared object file: No such file or directory\n",
      "2023-01-30 02:45:37.178126: W tensorflow/compiler/xla/stream_executor/platform/default/dso_loader.cc:64] Could not load dynamic library 'libcublas.so.11'; dlerror: libcublas.so.11: cannot open shared object file: No such file or directory\n",
      "2023-01-30 02:45:37.178194: W tensorflow/compiler/xla/stream_executor/platform/default/dso_loader.cc:64] Could not load dynamic library 'libcublasLt.so.11'; dlerror: libcublasLt.so.11: cannot open shared object file: No such file or directory\n",
      "2023-01-30 02:45:37.178259: W tensorflow/compiler/xla/stream_executor/platform/default/dso_loader.cc:64] Could not load dynamic library 'libcufft.so.10'; dlerror: libcufft.so.10: cannot open shared object file: No such file or directory\n",
      "2023-01-30 02:45:37.178323: W tensorflow/compiler/xla/stream_executor/platform/default/dso_loader.cc:64] Could not load dynamic library 'libcurand.so.10'; dlerror: libcurand.so.10: cannot open shared object file: No such file or directory\n",
      "2023-01-30 02:45:37.178388: W tensorflow/compiler/xla/stream_executor/platform/default/dso_loader.cc:64] Could not load dynamic library 'libcusolver.so.11'; dlerror: libcusolver.so.11: cannot open shared object file: No such file or directory\n",
      "2023-01-30 02:45:37.178452: W tensorflow/compiler/xla/stream_executor/platform/default/dso_loader.cc:64] Could not load dynamic library 'libcusparse.so.11'; dlerror: libcusparse.so.11: cannot open shared object file: No such file or directory\n",
      "2023-01-30 02:45:37.178515: W tensorflow/compiler/xla/stream_executor/platform/default/dso_loader.cc:64] Could not load dynamic library 'libcudnn.so.8'; dlerror: libcudnn.so.8: cannot open shared object file: No such file or directory\n",
      "2023-01-30 02:45:37.178527: W tensorflow/core/common_runtime/gpu/gpu_device.cc:1934] Cannot dlopen some GPU libraries. Please make sure the missing libraries mentioned above are installed properly if you would like to use GPU. Follow the guide at https://www.tensorflow.org/install/gpu for how to download and setup the required libraries for your platform.\n",
      "Skipping registering GPU devices...\n",
      "2023-01-30 02:45:37.178922: I tensorflow/core/platform/cpu_feature_guard.cc:193] This TensorFlow binary is optimized with oneAPI Deep Neural Network Library (oneDNN) to use the following CPU instructions in performance-critical operations:  AVX2 AVX512F AVX512_VNNI FMA\n",
      "To enable them in other operations, rebuild TensorFlow with the appropriate compiler flags.\n"
     ]
    }
   ],
   "source": [
    "model1 = tf.keras.models.Sequential([\n",
    "    tf.keras.layers.Dense(32, input_dim = X_train.shape[1]),\n",
    "    tf.keras.layers.Dense(128, activation='relu'),\n",
    "    tf.keras.layers.Dropout(0.2), \n",
    "    #To prevent over fitting of the data in each layer for some of the neurons are dropped at random\n",
    "    tf.keras.layers.Dense(1, activation= 'sigmoid') #Binary Activation function\n",
    "])"
   ]
  },
  {
   "cell_type": "code",
   "execution_count": 27,
   "id": "b74c195b",
   "metadata": {},
   "outputs": [],
   "source": [
    "model1.compile(optimizer='adam',\n",
    "                loss='binary_crossentropy', \n",
    "                metrics=['accuracy'])"
   ]
  },
  {
   "cell_type": "code",
   "execution_count": 28,
   "id": "2abd0be2",
   "metadata": {},
   "outputs": [
    {
     "name": "stdout",
     "output_type": "stream",
     "text": [
      "Epoch 1/100\n",
      "22/22 [==============================] - 1s 13ms/step - loss: 23.0312 - accuracy: 0.6017 - val_loss: 24.3009 - val_accuracy: 0.5581\n",
      "Epoch 2/100\n",
      "22/22 [==============================] - 0s 4ms/step - loss: 10.6354 - accuracy: 0.5930 - val_loss: 9.4577 - val_accuracy: 0.6977\n",
      "Epoch 3/100\n",
      "22/22 [==============================] - 0s 4ms/step - loss: 5.9455 - accuracy: 0.6250 - val_loss: 4.8809 - val_accuracy: 0.6628\n",
      "Epoch 4/100\n",
      "22/22 [==============================] - 0s 4ms/step - loss: 11.2357 - accuracy: 0.5698 - val_loss: 13.5191 - val_accuracy: 0.6628\n",
      "Epoch 5/100\n",
      "22/22 [==============================] - 0s 4ms/step - loss: 7.9310 - accuracy: 0.5872 - val_loss: 35.7957 - val_accuracy: 0.6744\n",
      "Epoch 6/100\n",
      "22/22 [==============================] - 0s 5ms/step - loss: 20.3966 - accuracy: 0.6163 - val_loss: 22.0770 - val_accuracy: 0.6977\n",
      "Epoch 7/100\n",
      "22/22 [==============================] - 0s 4ms/step - loss: 6.0155 - accuracy: 0.6512 - val_loss: 16.1571 - val_accuracy: 0.7209\n",
      "Epoch 8/100\n",
      "22/22 [==============================] - 0s 4ms/step - loss: 7.0243 - accuracy: 0.6628 - val_loss: 2.5850 - val_accuracy: 0.6744\n",
      "Epoch 9/100\n",
      "22/22 [==============================] - 0s 4ms/step - loss: 7.0491 - accuracy: 0.6570 - val_loss: 60.8876 - val_accuracy: 0.7093\n",
      "Epoch 10/100\n",
      "22/22 [==============================] - 0s 5ms/step - loss: 8.6480 - accuracy: 0.6599 - val_loss: 23.4061 - val_accuracy: 0.5814\n",
      "Epoch 11/100\n",
      "22/22 [==============================] - 0s 4ms/step - loss: 4.7199 - accuracy: 0.6453 - val_loss: 16.2595 - val_accuracy: 0.6047\n",
      "Epoch 12/100\n",
      "22/22 [==============================] - 0s 4ms/step - loss: 6.9768 - accuracy: 0.7093 - val_loss: 18.5934 - val_accuracy: 0.6977\n",
      "Epoch 13/100\n",
      "22/22 [==============================] - 0s 4ms/step - loss: 5.4043 - accuracy: 0.6570 - val_loss: 21.1553 - val_accuracy: 0.6163\n",
      "Epoch 14/100\n",
      "22/22 [==============================] - 0s 4ms/step - loss: 4.3664 - accuracy: 0.6919 - val_loss: 8.2757 - val_accuracy: 0.6279\n",
      "Epoch 15/100\n",
      "22/22 [==============================] - 0s 4ms/step - loss: 4.8110 - accuracy: 0.7093 - val_loss: 4.6987 - val_accuracy: 0.6860\n",
      "Epoch 16/100\n",
      "22/22 [==============================] - 0s 4ms/step - loss: 11.1362 - accuracy: 0.6541 - val_loss: 59.2683 - val_accuracy: 0.7326\n",
      "Epoch 17/100\n",
      "22/22 [==============================] - 0s 5ms/step - loss: 5.6006 - accuracy: 0.6948 - val_loss: 17.2096 - val_accuracy: 0.5814\n",
      "Epoch 18/100\n",
      "22/22 [==============================] - 0s 5ms/step - loss: 3.5958 - accuracy: 0.6831 - val_loss: 11.1362 - val_accuracy: 0.6744\n",
      "Epoch 19/100\n",
      "22/22 [==============================] - 0s 5ms/step - loss: 5.7646 - accuracy: 0.6686 - val_loss: 34.9011 - val_accuracy: 0.7442\n",
      "Epoch 20/100\n",
      "22/22 [==============================] - 0s 4ms/step - loss: 7.3251 - accuracy: 0.7238 - val_loss: 57.6100 - val_accuracy: 0.7907\n",
      "Epoch 21/100\n",
      "22/22 [==============================] - 0s 4ms/step - loss: 5.3106 - accuracy: 0.7442 - val_loss: 31.8743 - val_accuracy: 0.7093\n",
      "Epoch 22/100\n",
      "22/22 [==============================] - 0s 4ms/step - loss: 3.9210 - accuracy: 0.6948 - val_loss: 13.8348 - val_accuracy: 0.6977\n",
      "Epoch 23/100\n",
      "22/22 [==============================] - 0s 4ms/step - loss: 2.2750 - accuracy: 0.7267 - val_loss: 15.9433 - val_accuracy: 0.7209\n",
      "Epoch 24/100\n",
      "22/22 [==============================] - 0s 5ms/step - loss: 1.9004 - accuracy: 0.7674 - val_loss: 9.2962 - val_accuracy: 0.6977\n",
      "Epoch 25/100\n",
      "22/22 [==============================] - 0s 5ms/step - loss: 2.2766 - accuracy: 0.7674 - val_loss: 11.4675 - val_accuracy: 0.6977\n",
      "Epoch 26/100\n",
      "22/22 [==============================] - 0s 4ms/step - loss: 2.8101 - accuracy: 0.7558 - val_loss: 5.1394 - val_accuracy: 0.7326\n",
      "Epoch 27/100\n",
      "22/22 [==============================] - 0s 5ms/step - loss: 2.9897 - accuracy: 0.7384 - val_loss: 3.3948 - val_accuracy: 0.7442\n",
      "Epoch 28/100\n",
      "22/22 [==============================] - 0s 4ms/step - loss: 2.7290 - accuracy: 0.7326 - val_loss: 4.9316 - val_accuracy: 0.7558\n",
      "Epoch 29/100\n",
      "22/22 [==============================] - 0s 4ms/step - loss: 1.6276 - accuracy: 0.7471 - val_loss: 7.8108 - val_accuracy: 0.7442\n",
      "Epoch 30/100\n",
      "22/22 [==============================] - 0s 4ms/step - loss: 2.0911 - accuracy: 0.7587 - val_loss: 7.5919 - val_accuracy: 0.7442\n",
      "Epoch 31/100\n",
      "22/22 [==============================] - 0s 5ms/step - loss: 2.7750 - accuracy: 0.7355 - val_loss: 8.4501 - val_accuracy: 0.7442\n",
      "Epoch 32/100\n",
      "22/22 [==============================] - 0s 4ms/step - loss: 3.8713 - accuracy: 0.7209 - val_loss: 28.1512 - val_accuracy: 0.7558\n",
      "Epoch 33/100\n",
      "22/22 [==============================] - 0s 4ms/step - loss: 3.2059 - accuracy: 0.7500 - val_loss: 12.3813 - val_accuracy: 0.6163\n",
      "Epoch 34/100\n",
      "22/22 [==============================] - 0s 5ms/step - loss: 3.1537 - accuracy: 0.7064 - val_loss: 40.3529 - val_accuracy: 0.6977\n",
      "Epoch 35/100\n",
      "22/22 [==============================] - 0s 4ms/step - loss: 3.9691 - accuracy: 0.7122 - val_loss: 27.1592 - val_accuracy: 0.6860\n",
      "Epoch 36/100\n",
      "22/22 [==============================] - 0s 5ms/step - loss: 3.3853 - accuracy: 0.7180 - val_loss: 12.0899 - val_accuracy: 0.7326\n",
      "Epoch 37/100\n",
      "22/22 [==============================] - 0s 4ms/step - loss: 1.6577 - accuracy: 0.7791 - val_loss: 7.1656 - val_accuracy: 0.6744\n",
      "Epoch 38/100\n",
      "22/22 [==============================] - 0s 4ms/step - loss: 1.7746 - accuracy: 0.7616 - val_loss: 7.7720 - val_accuracy: 0.7442\n",
      "Epoch 39/100\n",
      "22/22 [==============================] - 0s 4ms/step - loss: 3.8214 - accuracy: 0.7355 - val_loss: 42.3125 - val_accuracy: 0.7326\n",
      "Epoch 40/100\n",
      "22/22 [==============================] - 0s 4ms/step - loss: 3.3116 - accuracy: 0.7529 - val_loss: 20.6084 - val_accuracy: 0.7093\n",
      "Epoch 41/100\n",
      "22/22 [==============================] - 0s 4ms/step - loss: 2.2144 - accuracy: 0.7645 - val_loss: 26.7160 - val_accuracy: 0.7326\n",
      "Epoch 42/100\n",
      "22/22 [==============================] - 0s 4ms/step - loss: 3.3882 - accuracy: 0.7209 - val_loss: 21.6692 - val_accuracy: 0.6977\n",
      "Epoch 43/100\n",
      "22/22 [==============================] - 0s 4ms/step - loss: 1.6131 - accuracy: 0.8169 - val_loss: 10.2753 - val_accuracy: 0.7326\n",
      "Epoch 44/100\n",
      "22/22 [==============================] - 0s 4ms/step - loss: 1.5208 - accuracy: 0.8081 - val_loss: 7.7686 - val_accuracy: 0.7907\n",
      "Epoch 45/100\n",
      "22/22 [==============================] - 0s 4ms/step - loss: 0.8345 - accuracy: 0.8343 - val_loss: 5.9033 - val_accuracy: 0.7326\n",
      "Epoch 46/100\n",
      "22/22 [==============================] - 0s 4ms/step - loss: 0.8791 - accuracy: 0.8198 - val_loss: 2.6334 - val_accuracy: 0.7674\n",
      "Epoch 47/100\n",
      "22/22 [==============================] - 0s 4ms/step - loss: 1.0413 - accuracy: 0.7994 - val_loss: 6.5114 - val_accuracy: 0.8023\n",
      "Epoch 48/100\n",
      "22/22 [==============================] - 0s 4ms/step - loss: 0.8441 - accuracy: 0.7849 - val_loss: 6.7476 - val_accuracy: 0.7209\n",
      "Epoch 49/100\n",
      "22/22 [==============================] - 0s 4ms/step - loss: 0.5601 - accuracy: 0.8140 - val_loss: 7.1332 - val_accuracy: 0.7442\n",
      "Epoch 50/100\n",
      "22/22 [==============================] - 0s 5ms/step - loss: 1.0543 - accuracy: 0.8401 - val_loss: 3.8791 - val_accuracy: 0.7442\n",
      "Epoch 51/100\n",
      "22/22 [==============================] - 0s 4ms/step - loss: 1.0142 - accuracy: 0.8140 - val_loss: 0.6468 - val_accuracy: 0.8023\n",
      "Epoch 52/100\n",
      "22/22 [==============================] - 0s 4ms/step - loss: 0.7168 - accuracy: 0.8488 - val_loss: 0.8605 - val_accuracy: 0.7791\n",
      "Epoch 53/100\n",
      "22/22 [==============================] - 0s 4ms/step - loss: 0.5874 - accuracy: 0.8343 - val_loss: 2.0488 - val_accuracy: 0.7907\n",
      "Epoch 54/100\n",
      "22/22 [==============================] - 0s 4ms/step - loss: 0.5417 - accuracy: 0.8459 - val_loss: 3.0772 - val_accuracy: 0.7674\n",
      "Epoch 55/100\n",
      "22/22 [==============================] - 0s 4ms/step - loss: 2.7267 - accuracy: 0.8169 - val_loss: 12.9636 - val_accuracy: 0.7907\n",
      "Epoch 56/100\n",
      "22/22 [==============================] - 0s 4ms/step - loss: 1.3264 - accuracy: 0.8081 - val_loss: 10.0367 - val_accuracy: 0.7442\n",
      "Epoch 57/100\n",
      "22/22 [==============================] - 0s 4ms/step - loss: 2.8091 - accuracy: 0.8081 - val_loss: 33.1772 - val_accuracy: 0.7442\n",
      "Epoch 58/100\n"
     ]
    },
    {
     "name": "stdout",
     "output_type": "stream",
     "text": [
      "22/22 [==============================] - 0s 4ms/step - loss: 1.1567 - accuracy: 0.8576 - val_loss: 16.7856 - val_accuracy: 0.7442\n",
      "Epoch 59/100\n",
      "22/22 [==============================] - 0s 4ms/step - loss: 0.9965 - accuracy: 0.8517 - val_loss: 8.2430 - val_accuracy: 0.7791\n",
      "Epoch 60/100\n",
      "22/22 [==============================] - 0s 4ms/step - loss: 0.8432 - accuracy: 0.8401 - val_loss: 3.0226 - val_accuracy: 0.7674\n",
      "Epoch 61/100\n",
      "22/22 [==============================] - 0s 4ms/step - loss: 2.5516 - accuracy: 0.8401 - val_loss: 16.0555 - val_accuracy: 0.7674\n",
      "Epoch 62/100\n",
      "22/22 [==============================] - 0s 4ms/step - loss: 1.9875 - accuracy: 0.7820 - val_loss: 16.9270 - val_accuracy: 0.7209\n",
      "Epoch 63/100\n",
      "22/22 [==============================] - 0s 4ms/step - loss: 1.1690 - accuracy: 0.8372 - val_loss: 6.8192 - val_accuracy: 0.7326\n",
      "Epoch 64/100\n",
      "22/22 [==============================] - 0s 4ms/step - loss: 0.4638 - accuracy: 0.8430 - val_loss: 6.5964 - val_accuracy: 0.8140\n",
      "Epoch 65/100\n",
      "22/22 [==============================] - 0s 4ms/step - loss: 0.7242 - accuracy: 0.8372 - val_loss: 3.8393 - val_accuracy: 0.7442\n",
      "Epoch 66/100\n",
      "22/22 [==============================] - 0s 4ms/step - loss: 0.6447 - accuracy: 0.8430 - val_loss: 8.9738 - val_accuracy: 0.7674\n",
      "Epoch 67/100\n",
      "22/22 [==============================] - 0s 4ms/step - loss: 1.2663 - accuracy: 0.7936 - val_loss: 16.4161 - val_accuracy: 0.7558\n",
      "Epoch 68/100\n",
      "22/22 [==============================] - 0s 4ms/step - loss: 0.9090 - accuracy: 0.8052 - val_loss: 7.9824 - val_accuracy: 0.7558\n",
      "Epoch 69/100\n",
      "22/22 [==============================] - 0s 4ms/step - loss: 0.9155 - accuracy: 0.8430 - val_loss: 7.2620 - val_accuracy: 0.7907\n",
      "Epoch 70/100\n",
      "22/22 [==============================] - 0s 4ms/step - loss: 0.6623 - accuracy: 0.8227 - val_loss: 3.7977 - val_accuracy: 0.7674\n",
      "Epoch 71/100\n",
      "22/22 [==============================] - 0s 4ms/step - loss: 0.4516 - accuracy: 0.8692 - val_loss: 2.7119 - val_accuracy: 0.7674\n",
      "Epoch 72/100\n",
      "22/22 [==============================] - 0s 4ms/step - loss: 1.6016 - accuracy: 0.8576 - val_loss: 11.3350 - val_accuracy: 0.7442\n",
      "Epoch 73/100\n",
      "22/22 [==============================] - 0s 4ms/step - loss: 0.7621 - accuracy: 0.8372 - val_loss: 15.1536 - val_accuracy: 0.7326\n",
      "Epoch 74/100\n",
      "22/22 [==============================] - 0s 5ms/step - loss: 0.8875 - accuracy: 0.8634 - val_loss: 9.0670 - val_accuracy: 0.7442\n",
      "Epoch 75/100\n",
      "22/22 [==============================] - 0s 5ms/step - loss: 0.5267 - accuracy: 0.8634 - val_loss: 6.5761 - val_accuracy: 0.7558\n",
      "Epoch 76/100\n",
      "22/22 [==============================] - 0s 5ms/step - loss: 0.6060 - accuracy: 0.8430 - val_loss: 3.7483 - val_accuracy: 0.8256\n",
      "Epoch 77/100\n",
      "22/22 [==============================] - 0s 4ms/step - loss: 1.0263 - accuracy: 0.8256 - val_loss: 24.9407 - val_accuracy: 0.7791\n",
      "Epoch 78/100\n",
      "22/22 [==============================] - 0s 4ms/step - loss: 1.3209 - accuracy: 0.8459 - val_loss: 17.5130 - val_accuracy: 0.7442\n",
      "Epoch 79/100\n",
      "22/22 [==============================] - 0s 4ms/step - loss: 0.5316 - accuracy: 0.8808 - val_loss: 10.5838 - val_accuracy: 0.7442\n",
      "Epoch 80/100\n",
      "22/22 [==============================] - 0s 4ms/step - loss: 0.4465 - accuracy: 0.8634 - val_loss: 8.3826 - val_accuracy: 0.7791\n",
      "Epoch 81/100\n",
      "22/22 [==============================] - 0s 4ms/step - loss: 0.5940 - accuracy: 0.8634 - val_loss: 4.9495 - val_accuracy: 0.7907\n",
      "Epoch 82/100\n",
      "22/22 [==============================] - 0s 4ms/step - loss: 0.4953 - accuracy: 0.8692 - val_loss: 2.9292 - val_accuracy: 0.8140\n",
      "Epoch 83/100\n",
      "22/22 [==============================] - 0s 4ms/step - loss: 0.3034 - accuracy: 0.8953 - val_loss: 2.6420 - val_accuracy: 0.8256\n",
      "Epoch 84/100\n",
      "22/22 [==============================] - 0s 4ms/step - loss: 0.4120 - accuracy: 0.8576 - val_loss: 0.6384 - val_accuracy: 0.7674\n",
      "Epoch 85/100\n",
      "22/22 [==============================] - 0s 4ms/step - loss: 1.3572 - accuracy: 0.8198 - val_loss: 20.2668 - val_accuracy: 0.8023\n",
      "Epoch 86/100\n",
      "22/22 [==============================] - 0s 4ms/step - loss: 0.9588 - accuracy: 0.8314 - val_loss: 13.0244 - val_accuracy: 0.7558\n",
      "Epoch 87/100\n",
      "22/22 [==============================] - 0s 4ms/step - loss: 0.7408 - accuracy: 0.8750 - val_loss: 9.0293 - val_accuracy: 0.7558\n",
      "Epoch 88/100\n",
      "22/22 [==============================] - 0s 4ms/step - loss: 0.4759 - accuracy: 0.8750 - val_loss: 5.3474 - val_accuracy: 0.8140\n",
      "Epoch 89/100\n",
      "22/22 [==============================] - 0s 4ms/step - loss: 0.5313 - accuracy: 0.8663 - val_loss: 2.6748 - val_accuracy: 0.7907\n",
      "Epoch 90/100\n",
      "22/22 [==============================] - 0s 4ms/step - loss: 0.2817 - accuracy: 0.8779 - val_loss: 2.8572 - val_accuracy: 0.8256\n",
      "Epoch 91/100\n",
      "22/22 [==============================] - 0s 4ms/step - loss: 0.2780 - accuracy: 0.8895 - val_loss: 2.6222 - val_accuracy: 0.7907\n",
      "Epoch 92/100\n",
      "22/22 [==============================] - 0s 4ms/step - loss: 0.4418 - accuracy: 0.8663 - val_loss: 0.6177 - val_accuracy: 0.8023\n",
      "Epoch 93/100\n",
      "22/22 [==============================] - 0s 4ms/step - loss: 1.0363 - accuracy: 0.8808 - val_loss: 16.2555 - val_accuracy: 0.8256\n",
      "Epoch 94/100\n",
      "22/22 [==============================] - 0s 4ms/step - loss: 0.9369 - accuracy: 0.8430 - val_loss: 12.0270 - val_accuracy: 0.7558\n",
      "Epoch 95/100\n",
      "22/22 [==============================] - 0s 4ms/step - loss: 0.3683 - accuracy: 0.8779 - val_loss: 4.8640 - val_accuracy: 0.7674\n",
      "Epoch 96/100\n",
      "22/22 [==============================] - 0s 4ms/step - loss: 0.4966 - accuracy: 0.8692 - val_loss: 2.5812 - val_accuracy: 0.7907\n",
      "Epoch 97/100\n",
      "22/22 [==============================] - 0s 4ms/step - loss: 1.0506 - accuracy: 0.8430 - val_loss: 15.4422 - val_accuracy: 0.8023\n",
      "Epoch 98/100\n",
      "22/22 [==============================] - 0s 4ms/step - loss: 0.8394 - accuracy: 0.8430 - val_loss: 10.9421 - val_accuracy: 0.7558\n",
      "Epoch 99/100\n",
      "22/22 [==============================] - 0s 4ms/step - loss: 0.5891 - accuracy: 0.8866 - val_loss: 5.8292 - val_accuracy: 0.7558\n",
      "Epoch 100/100\n",
      "22/22 [==============================] - 0s 4ms/step - loss: 0.4836 - accuracy: 0.8459 - val_loss: 3.9988 - val_accuracy: 0.8140\n"
     ]
    },
    {
     "data": {
      "text/plain": [
       "<keras.callbacks.History at 0x7ff7c010db40>"
      ]
     },
     "execution_count": 28,
     "metadata": {},
     "output_type": "execute_result"
    }
   ],
   "source": [
    "model1.fit(X_train, y_train, batch_size = 16, epochs=100, validation_split = 0.2)"
   ]
  },
  {
   "cell_type": "code",
   "execution_count": 29,
   "id": "2c07be0c",
   "metadata": {},
   "outputs": [
    {
     "name": "stdout",
     "output_type": "stream",
     "text": [
      "4/4 [==============================] - 0s 3ms/step - loss: 6.0731 - accuracy: 0.8611\n"
     ]
    },
    {
     "data": {
      "text/plain": [
       "[6.073134899139404, 0.8611111044883728]"
      ]
     },
     "execution_count": 29,
     "metadata": {},
     "output_type": "execute_result"
    }
   ],
   "source": [
    "model1.evaluate(X_test, y_test)"
   ]
  },
  {
   "cell_type": "code",
   "execution_count": 30,
   "id": "b3319c1d",
   "metadata": {},
   "outputs": [],
   "source": [
    "# Getting an accuracy of 88%"
   ]
  },
  {
   "cell_type": "code",
   "execution_count": 31,
   "id": "8f564242",
   "metadata": {},
   "outputs": [],
   "source": [
    "#Implementing KNN and k 11"
   ]
  },
  {
   "cell_type": "code",
   "execution_count": 32,
   "id": "73847ca8",
   "metadata": {},
   "outputs": [
    {
     "name": "stdout",
     "output_type": "stream",
     "text": [
      "Accuracy: 0.6944444444444444\n"
     ]
    },
    {
     "name": "stderr",
     "output_type": "stream",
     "text": [
      "/home/souhardya/.local/lib/python3.10/site-packages/sklearn/neighbors/_classification.py:200: DataConversionWarning: A column-vector y was passed when a 1d array was expected. Please change the shape of y to (n_samples,), for example using ravel().\n",
      "  return self._fit(X, y)\n"
     ]
    }
   ],
   "source": [
    "from sklearn.neighbors import KNeighborsClassifier\n",
    "from sklearn.model_selection import train_test_split\n",
    "from sklearn.metrics import accuracy_score\n",
    " \n",
    "\n",
    "# define the model\n",
    "knn = KNeighborsClassifier(n_neighbors=11)\n",
    "\n",
    "# train the model\n",
    "knn.fit(X_train, y_train)\n",
    "\n",
    "# test the model\n",
    "y_pred = knn.predict(X_test)\n",
    "\n",
    "# evaluate the model\n",
    "accuracy = accuracy_score(y_test, y_pred)\n",
    "print('Accuracy:', accuracy)\n"
   ]
  },
  {
   "cell_type": "code",
   "execution_count": 33,
   "id": "6bcbd532",
   "metadata": {},
   "outputs": [],
   "source": [
    "#Using decision tree and  max depth 13"
   ]
  },
  {
   "cell_type": "code",
   "execution_count": 34,
   "id": "c0f6ed67",
   "metadata": {},
   "outputs": [
    {
     "name": "stdout",
     "output_type": "stream",
     "text": [
      "Accuracy: 0.7592592592592593\n"
     ]
    }
   ],
   "source": [
    "from sklearn.tree import DecisionTreeClassifier\n",
    "from sklearn.model_selection import train_test_split\n",
    "from sklearn.metrics import accuracy_score\n",
    "\n",
    "dt = DecisionTreeClassifier(criterion='entropy', max_depth=13)\n",
    "\n",
    "dt.fit(X_train, y_train)\n",
    "\n",
    "y_pred = dt.predict(X_test)\n",
    "\n",
    "accuracy = accuracy_score(y_test, y_pred)\n",
    "print('Accuracy:', accuracy)"
   ]
  },
  {
   "cell_type": "code",
   "execution_count": 35,
   "id": "970f9f53",
   "metadata": {},
   "outputs": [],
   "source": [
    "#Using Naive Bayes and GaussianNB class"
   ]
  },
  {
   "cell_type": "code",
   "execution_count": 36,
   "id": "84845422",
   "metadata": {},
   "outputs": [
    {
     "name": "stdout",
     "output_type": "stream",
     "text": [
      "Accuracy: 86.11%\n"
     ]
    },
    {
     "name": "stderr",
     "output_type": "stream",
     "text": [
      "/home/souhardya/.local/lib/python3.10/site-packages/sklearn/utils/validation.py:1111: DataConversionWarning: A column-vector y was passed when a 1d array was expected. Please change the shape of y to (n_samples, ), for example using ravel().\n",
      "  y = column_or_1d(y, warn=True)\n"
     ]
    }
   ],
   "source": [
    "# Import the necessary libraries\n",
    "from sklearn.naive_bayes import GaussianNB\n",
    "from sklearn.metrics import accuracy_score\n",
    "\n",
    "\n",
    "# Initialize the GaussianNB classifier\n",
    "clf = GaussianNB()\n",
    "\n",
    "# Train the model on the training data\n",
    "clf.fit(X_train, y_train)\n",
    "\n",
    "# Use the model to make predictions on the test data\n",
    "y_pred = clf.predict(X_test)\n",
    "\n",
    "# Calculate the accuracy of the model\n",
    "accuracy = accuracy_score(y_test, y_pred)\n",
    "print(\"Accuracy: {:.2f}%\".format(accuracy * 100))"
   ]
  },
  {
   "cell_type": "code",
   "execution_count": null,
   "id": "bc309eb4",
   "metadata": {},
   "outputs": [],
   "source": []
  }
 ],
 "metadata": {
  "kernelspec": {
   "display_name": "Python 3 (ipykernel)",
   "language": "python",
   "name": "python3"
  },
  "language_info": {
   "codemirror_mode": {
    "name": "ipython",
    "version": 3
   },
   "file_extension": ".py",
   "mimetype": "text/x-python",
   "name": "python",
   "nbconvert_exporter": "python",
   "pygments_lexer": "ipython3",
   "version": "3.10.6"
  }
 },
 "nbformat": 4,
 "nbformat_minor": 5
}
