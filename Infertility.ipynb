{
 "cells": [
  {
   "cell_type": "code",
   "execution_count": 1,
   "id": "a7022dd0",
   "metadata": {},
   "outputs": [],
   "source": [
    "import numpy as np\n",
    "import pandas as pd"
   ]
  },
  {
   "cell_type": "code",
   "execution_count": 2,
   "id": "31da49de",
   "metadata": {},
   "outputs": [
    {
     "data": {
      "text/html": [
       "<div>\n",
       "<style scoped>\n",
       "    .dataframe tbody tr th:only-of-type {\n",
       "        vertical-align: middle;\n",
       "    }\n",
       "\n",
       "    .dataframe tbody tr th {\n",
       "        vertical-align: top;\n",
       "    }\n",
       "\n",
       "    .dataframe thead th {\n",
       "        text-align: right;\n",
       "    }\n",
       "</style>\n",
       "<table border=\"1\" class=\"dataframe\">\n",
       "  <thead>\n",
       "    <tr style=\"text-align: right;\">\n",
       "      <th></th>\n",
       "      <th>Sl. No</th>\n",
       "      <th>Patient File No.</th>\n",
       "      <th>PCOS (Y/N)</th>\n",
       "      <th>I   beta-HCG(mIU/mL)</th>\n",
       "      <th>II    beta-HCG(mIU/mL)</th>\n",
       "      <th>AMH(ng/mL)</th>\n",
       "    </tr>\n",
       "  </thead>\n",
       "  <tbody>\n",
       "    <tr>\n",
       "      <th>0</th>\n",
       "      <td>1</td>\n",
       "      <td>10001</td>\n",
       "      <td>0</td>\n",
       "      <td>1.99</td>\n",
       "      <td>1.99</td>\n",
       "      <td>2.07</td>\n",
       "    </tr>\n",
       "    <tr>\n",
       "      <th>1</th>\n",
       "      <td>2</td>\n",
       "      <td>10002</td>\n",
       "      <td>0</td>\n",
       "      <td>60.80</td>\n",
       "      <td>1.99</td>\n",
       "      <td>1.53</td>\n",
       "    </tr>\n",
       "    <tr>\n",
       "      <th>2</th>\n",
       "      <td>3</td>\n",
       "      <td>10003</td>\n",
       "      <td>1</td>\n",
       "      <td>494.08</td>\n",
       "      <td>494.08</td>\n",
       "      <td>6.63</td>\n",
       "    </tr>\n",
       "    <tr>\n",
       "      <th>3</th>\n",
       "      <td>4</td>\n",
       "      <td>10004</td>\n",
       "      <td>0</td>\n",
       "      <td>1.99</td>\n",
       "      <td>1.99</td>\n",
       "      <td>1.22</td>\n",
       "    </tr>\n",
       "    <tr>\n",
       "      <th>4</th>\n",
       "      <td>5</td>\n",
       "      <td>10005</td>\n",
       "      <td>0</td>\n",
       "      <td>801.45</td>\n",
       "      <td>801.45</td>\n",
       "      <td>2.26</td>\n",
       "    </tr>\n",
       "  </tbody>\n",
       "</table>\n",
       "</div>"
      ],
      "text/plain": [
       "   Sl. No  Patient File No.  PCOS (Y/N)    I   beta-HCG(mIU/mL)  \\\n",
       "0       1             10001           0                    1.99   \n",
       "1       2             10002           0                   60.80   \n",
       "2       3             10003           1                  494.08   \n",
       "3       4             10004           0                    1.99   \n",
       "4       5             10005           0                  801.45   \n",
       "\n",
       "   II    beta-HCG(mIU/mL) AMH(ng/mL)  \n",
       "0                    1.99       2.07  \n",
       "1                    1.99       1.53  \n",
       "2                  494.08       6.63  \n",
       "3                    1.99       1.22  \n",
       "4                  801.45       2.26  "
      ]
     },
     "execution_count": 2,
     "metadata": {},
     "output_type": "execute_result"
    }
   ],
   "source": [
    "df = pd.read_csv(\"PCOS_infertility.csv\")\n",
    "df.head(5)#for accessing the first 5 datas"
   ]
  },
  {
   "cell_type": "code",
   "execution_count": 3,
   "id": "ac08eb2d",
   "metadata": {},
   "outputs": [
    {
     "data": {
      "text/plain": [
       "(541, 6)"
      ]
     },
     "execution_count": 3,
     "metadata": {},
     "output_type": "execute_result"
    }
   ],
   "source": [
    "df.shape #shape of the data"
   ]
  },
  {
   "cell_type": "code",
   "execution_count": 4,
   "id": "7a30b318",
   "metadata": {},
   "outputs": [],
   "source": [
    "df = df.drop(['Sl. No'], axis=1)\n",
    "df = df.drop(['Patient File No.'], axis=1)\n",
    "# Dropping those column which will not be necessary in case of prediction"
   ]
  },
  {
   "cell_type": "code",
   "execution_count": 5,
   "id": "2b60ed9c",
   "metadata": {},
   "outputs": [],
   "source": [
    "#display(df.iloc[305])"
   ]
  },
  {
   "cell_type": "code",
   "execution_count": 6,
   "id": "707e7765",
   "metadata": {},
   "outputs": [],
   "source": [
    "df = df.drop([305], axis=0)"
   ]
  },
  {
   "cell_type": "code",
   "execution_count": 7,
   "id": "c6f61396",
   "metadata": {},
   "outputs": [],
   "source": [
    "X = df.drop(['PCOS (Y/N)'],axis=1).values\n",
    "#The code is dropping one of the columns of the dataset, \n",
    "# specifically the column whose name is specified in the string 'name of the target column'. \n",
    "# The .drop() method is used to drop a specified column or row from a DataFrame. \n",
    "# The axis=1 argument specifies that we want to drop a column (as opposed to a row) \n",
    "# and the .values at the end of the code is used to return the values of the DataFrame as a numpy array\n",
    "y = df['PCOS (Y/N)'].values\n",
    "\n",
    "# Basically in this code we are taking the target value from the dataset and putting it in a seperate array"
   ]
  },
  {
   "cell_type": "code",
   "execution_count": 8,
   "id": "94ab3406",
   "metadata": {},
   "outputs": [],
   "source": [
    "from sklearn.preprocessing import StandardScaler\n",
    "\n",
    "# Create an instance of the StandardScaler\n",
    "scaler = StandardScaler()\n",
    "\n",
    "# Fit the scaler to the data\n",
    "scaler.fit(df)\n",
    "\n",
    "# Transform the data\n",
    "df = scaler.transform(df)"
   ]
  },
  {
   "cell_type": "code",
   "execution_count": 9,
   "id": "76a003b0",
   "metadata": {},
   "outputs": [],
   "source": [
    "from sklearn.model_selection import train_test_split\n",
    "X_train, X_test, y_train, y_test = train_test_split(X, y ,test_size = 0.2, shuffle=True)"
   ]
  },
  {
   "cell_type": "code",
   "execution_count": 10,
   "id": "21f9a2c0",
   "metadata": {},
   "outputs": [
    {
     "data": {
      "text/plain": [
       "(432, 3)"
      ]
     },
     "execution_count": 10,
     "metadata": {},
     "output_type": "execute_result"
    }
   ],
   "source": [
    "X_train.shape"
   ]
  },
  {
   "cell_type": "code",
   "execution_count": 11,
   "id": "1566fc9e",
   "metadata": {},
   "outputs": [
    {
     "data": {
      "text/plain": [
       "(432,)"
      ]
     },
     "execution_count": 11,
     "metadata": {},
     "output_type": "execute_result"
    }
   ],
   "source": [
    "y_train.shape"
   ]
  },
  {
   "cell_type": "code",
   "execution_count": 12,
   "id": "700f97d8",
   "metadata": {},
   "outputs": [],
   "source": [
    "X_train = np.array(X_train).astype('float32')\n",
    "y_train = np.array(y_train).astype('float32')"
   ]
  },
  {
   "cell_type": "code",
   "execution_count": 13,
   "id": "8f1b0e1d",
   "metadata": {},
   "outputs": [],
   "source": [
    "X_test = np.array(X_test).astype('float32')\n",
    "y_test = np.array(y_test).astype('float32')"
   ]
  },
  {
   "cell_type": "code",
   "execution_count": 14,
   "id": "76097002",
   "metadata": {},
   "outputs": [],
   "source": [
    "#Designing the model#"
   ]
  },
  {
   "cell_type": "code",
   "execution_count": 15,
   "id": "ed87ab71",
   "metadata": {},
   "outputs": [],
   "source": [
    "import os\n",
    "os.environ['TF_ENABLE_TENSORRT_OPS'] = '0'"
   ]
  },
  {
   "cell_type": "code",
   "execution_count": 16,
   "id": "63bf0c8d",
   "metadata": {},
   "outputs": [
    {
     "name": "stderr",
     "output_type": "stream",
     "text": [
      "2023-01-28 21:31:11.491927: I tensorflow/core/platform/cpu_feature_guard.cc:193] This TensorFlow binary is optimized with oneAPI Deep Neural Network Library (oneDNN) to use the following CPU instructions in performance-critical operations:  AVX2 AVX512F AVX512_VNNI FMA\n",
      "To enable them in other operations, rebuild TensorFlow with the appropriate compiler flags.\n",
      "2023-01-28 21:31:11.605076: I tensorflow/core/util/port.cc:104] oneDNN custom operations are on. You may see slightly different numerical results due to floating-point round-off errors from different computation orders. To turn them off, set the environment variable `TF_ENABLE_ONEDNN_OPTS=0`.\n",
      "2023-01-28 21:31:11.607937: W tensorflow/compiler/xla/stream_executor/platform/default/dso_loader.cc:64] Could not load dynamic library 'libcudart.so.11.0'; dlerror: libcudart.so.11.0: cannot open shared object file: No such file or directory\n",
      "2023-01-28 21:31:11.607950: I tensorflow/compiler/xla/stream_executor/cuda/cudart_stub.cc:29] Ignore above cudart dlerror if you do not have a GPU set up on your machine.\n",
      "2023-01-28 21:31:12.397050: W tensorflow/compiler/xla/stream_executor/platform/default/dso_loader.cc:64] Could not load dynamic library 'libnvinfer.so.7'; dlerror: libnvinfer.so.7: cannot open shared object file: No such file or directory\n",
      "2023-01-28 21:31:12.397113: W tensorflow/compiler/xla/stream_executor/platform/default/dso_loader.cc:64] Could not load dynamic library 'libnvinfer_plugin.so.7'; dlerror: libnvinfer_plugin.so.7: cannot open shared object file: No such file or directory\n",
      "2023-01-28 21:31:12.397119: W tensorflow/compiler/tf2tensorrt/utils/py_utils.cc:38] TF-TRT Warning: Cannot dlopen some TensorRT libraries. If you would like to use Nvidia GPU with TensorRT, please make sure the missing libraries mentioned above are installed properly.\n"
     ]
    }
   ],
   "source": [
    "import tensorflow as tf\n",
    "from tensorflow.keras import Sequential\n",
    "from tensorflow.keras.layers import Dense, Dropout, Activation"
   ]
  },
  {
   "cell_type": "code",
   "execution_count": 17,
   "id": "17dd4a07",
   "metadata": {},
   "outputs": [],
   "source": [
    "# For linear regression, the most commonly used optimizer is stochastic gradient descent (SGD).\n",
    "# The loss function used is typically mean squared error (MSE) or mean absolute error (MAE).\n",
    "# The metric used to evaluate the performance of the model is typically the coefficient of determination (R^2)."
   ]
  },
  {
   "cell_type": "code",
   "execution_count": 18,
   "id": "0c44b5cd",
   "metadata": {},
   "outputs": [
    {
     "name": "stderr",
     "output_type": "stream",
     "text": [
      "2023-01-28 21:31:13.051587: I tensorflow/compiler/xla/stream_executor/cuda/cuda_gpu_executor.cc:981] successful NUMA node read from SysFS had negative value (-1), but there must be at least one NUMA node, so returning NUMA node zero\n",
      "2023-01-28 21:31:13.052347: W tensorflow/compiler/xla/stream_executor/platform/default/dso_loader.cc:64] Could not load dynamic library 'libcudart.so.11.0'; dlerror: libcudart.so.11.0: cannot open shared object file: No such file or directory\n",
      "2023-01-28 21:31:13.052514: W tensorflow/compiler/xla/stream_executor/platform/default/dso_loader.cc:64] Could not load dynamic library 'libcublas.so.11'; dlerror: libcublas.so.11: cannot open shared object file: No such file or directory\n",
      "2023-01-28 21:31:13.052639: W tensorflow/compiler/xla/stream_executor/platform/default/dso_loader.cc:64] Could not load dynamic library 'libcublasLt.so.11'; dlerror: libcublasLt.so.11: cannot open shared object file: No such file or directory\n",
      "2023-01-28 21:31:13.052746: W tensorflow/compiler/xla/stream_executor/platform/default/dso_loader.cc:64] Could not load dynamic library 'libcufft.so.10'; dlerror: libcufft.so.10: cannot open shared object file: No such file or directory\n",
      "2023-01-28 21:31:13.052846: W tensorflow/compiler/xla/stream_executor/platform/default/dso_loader.cc:64] Could not load dynamic library 'libcurand.so.10'; dlerror: libcurand.so.10: cannot open shared object file: No such file or directory\n",
      "2023-01-28 21:31:13.052946: W tensorflow/compiler/xla/stream_executor/platform/default/dso_loader.cc:64] Could not load dynamic library 'libcusolver.so.11'; dlerror: libcusolver.so.11: cannot open shared object file: No such file or directory\n",
      "2023-01-28 21:31:13.053046: W tensorflow/compiler/xla/stream_executor/platform/default/dso_loader.cc:64] Could not load dynamic library 'libcusparse.so.11'; dlerror: libcusparse.so.11: cannot open shared object file: No such file or directory\n",
      "2023-01-28 21:31:13.053146: W tensorflow/compiler/xla/stream_executor/platform/default/dso_loader.cc:64] Could not load dynamic library 'libcudnn.so.8'; dlerror: libcudnn.so.8: cannot open shared object file: No such file or directory\n",
      "2023-01-28 21:31:13.053167: W tensorflow/core/common_runtime/gpu/gpu_device.cc:1934] Cannot dlopen some GPU libraries. Please make sure the missing libraries mentioned above are installed properly if you would like to use GPU. Follow the guide at https://www.tensorflow.org/install/gpu for how to download and setup the required libraries for your platform.\n",
      "Skipping registering GPU devices...\n",
      "2023-01-28 21:31:13.054110: I tensorflow/core/platform/cpu_feature_guard.cc:193] This TensorFlow binary is optimized with oneAPI Deep Neural Network Library (oneDNN) to use the following CPU instructions in performance-critical operations:  AVX2 AVX512F AVX512_VNNI FMA\n",
      "To enable them in other operations, rebuild TensorFlow with the appropriate compiler flags.\n"
     ]
    }
   ],
   "source": [
    "model1 = tf.keras.models.Sequential([\n",
    "    tf.keras.layers.Dense(32, input_dim = X_train.shape[1]),\n",
    "    tf.keras.layers.Dense(128, activation='relu'),\n",
    "    tf.keras.layers.Dropout(0.1), \n",
    "    #To prevent over fitting of the data in each layer for some of the neurons are dropped at random\n",
    "    tf.keras.layers.Dense(1, activation= 'sigmoid') #Binary Activation function\n",
    "])"
   ]
  },
  {
   "cell_type": "code",
   "execution_count": 19,
   "id": "b74c195b",
   "metadata": {},
   "outputs": [],
   "source": [
    "model1.compile(optimizer='adam',\n",
    "                loss='binary_crossentropy', \n",
    "                metrics=['accuracy'])"
   ]
  },
  {
   "cell_type": "code",
   "execution_count": 20,
   "id": "2abd0be2",
   "metadata": {},
   "outputs": [
    {
     "name": "stdout",
     "output_type": "stream",
     "text": [
      "Epoch 1/100\n",
      "22/22 [==============================] - 1s 8ms/step - loss: 16.4334 - accuracy: 0.4667 - val_loss: 19.4301 - val_accuracy: 0.3678\n",
      "Epoch 2/100\n",
      "22/22 [==============================] - 0s 2ms/step - loss: 15.7372 - accuracy: 0.5826 - val_loss: 12.1115 - val_accuracy: 0.6437\n",
      "Epoch 3/100\n",
      "22/22 [==============================] - 0s 3ms/step - loss: 14.7702 - accuracy: 0.5971 - val_loss: 14.4351 - val_accuracy: 0.3793\n",
      "Epoch 4/100\n",
      "22/22 [==============================] - 0s 2ms/step - loss: 49.7235 - accuracy: 0.4754 - val_loss: 7.9487 - val_accuracy: 0.6437\n",
      "Epoch 5/100\n",
      "22/22 [==============================] - 0s 2ms/step - loss: 31.0669 - accuracy: 0.6435 - val_loss: 9.6610 - val_accuracy: 0.6437\n",
      "Epoch 6/100\n",
      "22/22 [==============================] - 0s 2ms/step - loss: 36.6816 - accuracy: 0.6638 - val_loss: 6.9723 - val_accuracy: 0.6322\n",
      "Epoch 7/100\n",
      "22/22 [==============================] - 0s 2ms/step - loss: 15.2595 - accuracy: 0.6174 - val_loss: 7.0539 - val_accuracy: 0.6092\n",
      "Epoch 8/100\n",
      "22/22 [==============================] - 0s 3ms/step - loss: 16.7139 - accuracy: 0.6145 - val_loss: 4.9128 - val_accuracy: 0.5977\n",
      "Epoch 9/100\n",
      "22/22 [==============================] - 0s 2ms/step - loss: 21.4749 - accuracy: 0.6725 - val_loss: 17.6068 - val_accuracy: 0.4828\n",
      "Epoch 10/100\n",
      "22/22 [==============================] - 0s 3ms/step - loss: 23.6216 - accuracy: 0.6348 - val_loss: 9.7644 - val_accuracy: 0.6092\n",
      "Epoch 11/100\n",
      "22/22 [==============================] - 0s 2ms/step - loss: 11.6351 - accuracy: 0.6174 - val_loss: 3.5819 - val_accuracy: 0.5862\n",
      "Epoch 12/100\n",
      "22/22 [==============================] - 0s 2ms/step - loss: 19.1169 - accuracy: 0.6232 - val_loss: 6.5989 - val_accuracy: 0.6207\n",
      "Epoch 13/100\n",
      "22/22 [==============================] - 0s 2ms/step - loss: 28.2357 - accuracy: 0.6348 - val_loss: 4.8023 - val_accuracy: 0.6092\n",
      "Epoch 14/100\n",
      "22/22 [==============================] - 0s 3ms/step - loss: 15.5986 - accuracy: 0.6551 - val_loss: 3.2913 - val_accuracy: 0.5862\n",
      "Epoch 15/100\n",
      "22/22 [==============================] - 0s 3ms/step - loss: 20.0902 - accuracy: 0.6116 - val_loss: 8.2333 - val_accuracy: 0.6092\n",
      "Epoch 16/100\n",
      "22/22 [==============================] - 0s 3ms/step - loss: 19.7826 - accuracy: 0.6551 - val_loss: 24.1232 - val_accuracy: 0.5057\n",
      "Epoch 17/100\n",
      "22/22 [==============================] - 0s 3ms/step - loss: 21.4281 - accuracy: 0.6493 - val_loss: 6.4870 - val_accuracy: 0.6322\n",
      "Epoch 18/100\n",
      "22/22 [==============================] - 0s 3ms/step - loss: 22.3553 - accuracy: 0.5826 - val_loss: 4.4135 - val_accuracy: 0.5862\n",
      "Epoch 19/100\n",
      "22/22 [==============================] - 0s 3ms/step - loss: 7.6698 - accuracy: 0.6580 - val_loss: 10.6256 - val_accuracy: 0.5517\n",
      "Epoch 20/100\n",
      "22/22 [==============================] - 0s 3ms/step - loss: 13.3395 - accuracy: 0.6493 - val_loss: 6.5586 - val_accuracy: 0.6322\n",
      "Epoch 21/100\n",
      "22/22 [==============================] - 0s 3ms/step - loss: 19.3812 - accuracy: 0.6232 - val_loss: 2.8664 - val_accuracy: 0.5977\n",
      "Epoch 22/100\n",
      "22/22 [==============================] - 0s 2ms/step - loss: 4.3184 - accuracy: 0.6783 - val_loss: 6.6679 - val_accuracy: 0.6092\n",
      "Epoch 23/100\n",
      "22/22 [==============================] - 0s 2ms/step - loss: 23.5442 - accuracy: 0.6841 - val_loss: 5.0782 - val_accuracy: 0.6322\n",
      "Epoch 24/100\n",
      "22/22 [==============================] - 0s 3ms/step - loss: 23.1065 - accuracy: 0.6406 - val_loss: 10.0918 - val_accuracy: 0.4368\n",
      "Epoch 25/100\n",
      "22/22 [==============================] - 0s 2ms/step - loss: 18.4250 - accuracy: 0.6377 - val_loss: 13.9410 - val_accuracy: 0.6092\n",
      "Epoch 26/100\n",
      "22/22 [==============================] - 0s 2ms/step - loss: 12.7286 - accuracy: 0.6638 - val_loss: 3.6232 - val_accuracy: 0.5862\n",
      "Epoch 27/100\n",
      "22/22 [==============================] - 0s 2ms/step - loss: 11.7846 - accuracy: 0.6609 - val_loss: 9.9899 - val_accuracy: 0.6207\n",
      "Epoch 28/100\n",
      "22/22 [==============================] - 0s 2ms/step - loss: 17.7393 - accuracy: 0.6841 - val_loss: 1.9064 - val_accuracy: 0.4828\n",
      "Epoch 29/100\n",
      "22/22 [==============================] - 0s 2ms/step - loss: 14.6047 - accuracy: 0.5826 - val_loss: 5.2204 - val_accuracy: 0.5977\n",
      "Epoch 30/100\n",
      "22/22 [==============================] - 0s 3ms/step - loss: 13.5052 - accuracy: 0.6609 - val_loss: 5.3553 - val_accuracy: 0.5977\n",
      "Epoch 31/100\n",
      "22/22 [==============================] - 0s 2ms/step - loss: 10.4002 - accuracy: 0.6551 - val_loss: 6.2032 - val_accuracy: 0.6207\n",
      "Epoch 32/100\n",
      "22/22 [==============================] - 0s 2ms/step - loss: 6.2540 - accuracy: 0.6638 - val_loss: 4.2301 - val_accuracy: 0.5747\n",
      "Epoch 33/100\n",
      "22/22 [==============================] - 0s 2ms/step - loss: 4.4191 - accuracy: 0.6638 - val_loss: 5.3788 - val_accuracy: 0.6092\n",
      "Epoch 34/100\n",
      "22/22 [==============================] - 0s 3ms/step - loss: 11.6023 - accuracy: 0.6638 - val_loss: 9.7972 - val_accuracy: 0.5287\n",
      "Epoch 35/100\n",
      "22/22 [==============================] - 0s 2ms/step - loss: 10.2062 - accuracy: 0.6406 - val_loss: 3.6639 - val_accuracy: 0.5747\n",
      "Epoch 36/100\n",
      "22/22 [==============================] - 0s 3ms/step - loss: 18.0170 - accuracy: 0.6406 - val_loss: 3.8952 - val_accuracy: 0.5402\n",
      "Epoch 37/100\n",
      "22/22 [==============================] - 0s 2ms/step - loss: 10.0916 - accuracy: 0.6493 - val_loss: 9.2259 - val_accuracy: 0.6207\n",
      "Epoch 38/100\n",
      "22/22 [==============================] - 0s 2ms/step - loss: 20.4118 - accuracy: 0.6551 - val_loss: 7.8162 - val_accuracy: 0.6092\n",
      "Epoch 39/100\n",
      "22/22 [==============================] - 0s 3ms/step - loss: 9.0933 - accuracy: 0.6667 - val_loss: 9.3922 - val_accuracy: 0.4253\n",
      "Epoch 40/100\n",
      "22/22 [==============================] - 0s 3ms/step - loss: 9.8412 - accuracy: 0.5942 - val_loss: 4.5854 - val_accuracy: 0.6207\n",
      "Epoch 41/100\n",
      "22/22 [==============================] - 0s 2ms/step - loss: 5.8635 - accuracy: 0.6638 - val_loss: 3.5205 - val_accuracy: 0.5977\n",
      "Epoch 42/100\n",
      "22/22 [==============================] - 0s 2ms/step - loss: 9.2606 - accuracy: 0.6812 - val_loss: 4.3333 - val_accuracy: 0.5747\n",
      "Epoch 43/100\n",
      "22/22 [==============================] - 0s 2ms/step - loss: 13.1076 - accuracy: 0.6290 - val_loss: 3.3728 - val_accuracy: 0.6207\n",
      "Epoch 44/100\n",
      "22/22 [==============================] - 0s 2ms/step - loss: 10.1545 - accuracy: 0.6464 - val_loss: 7.5710 - val_accuracy: 0.4598\n",
      "Epoch 45/100\n",
      "22/22 [==============================] - 0s 2ms/step - loss: 7.8742 - accuracy: 0.6551 - val_loss: 9.5301 - val_accuracy: 0.6092\n",
      "Epoch 46/100\n",
      "22/22 [==============================] - 0s 2ms/step - loss: 19.9769 - accuracy: 0.7043 - val_loss: 5.3447 - val_accuracy: 0.6207\n",
      "Epoch 47/100\n",
      "22/22 [==============================] - 0s 2ms/step - loss: 5.1769 - accuracy: 0.6319 - val_loss: 9.1347 - val_accuracy: 0.4368\n",
      "Epoch 48/100\n",
      "22/22 [==============================] - 0s 3ms/step - loss: 17.2773 - accuracy: 0.6290 - val_loss: 5.5357 - val_accuracy: 0.6092\n",
      "Epoch 49/100\n",
      "22/22 [==============================] - 0s 2ms/step - loss: 8.3345 - accuracy: 0.6551 - val_loss: 4.2235 - val_accuracy: 0.5402\n",
      "Epoch 50/100\n",
      "22/22 [==============================] - 0s 2ms/step - loss: 6.0672 - accuracy: 0.6464 - val_loss: 2.4910 - val_accuracy: 0.5862\n",
      "Epoch 51/100\n",
      "22/22 [==============================] - 0s 3ms/step - loss: 9.8149 - accuracy: 0.6435 - val_loss: 2.6643 - val_accuracy: 0.6092\n",
      "Epoch 52/100\n",
      "22/22 [==============================] - 0s 3ms/step - loss: 9.5299 - accuracy: 0.6551 - val_loss: 2.7488 - val_accuracy: 0.5172\n",
      "Epoch 53/100\n",
      "22/22 [==============================] - 0s 3ms/step - loss: 12.3615 - accuracy: 0.6058 - val_loss: 3.6088 - val_accuracy: 0.6092\n",
      "Epoch 54/100\n",
      "22/22 [==============================] - 0s 2ms/step - loss: 8.5375 - accuracy: 0.6609 - val_loss: 1.9830 - val_accuracy: 0.5862\n",
      "Epoch 55/100\n",
      "22/22 [==============================] - 0s 2ms/step - loss: 5.0666 - accuracy: 0.6116 - val_loss: 4.3958 - val_accuracy: 0.5402\n",
      "Epoch 56/100\n",
      "22/22 [==============================] - 0s 2ms/step - loss: 8.0202 - accuracy: 0.6841 - val_loss: 4.1149 - val_accuracy: 0.6437\n",
      "Epoch 57/100\n",
      "22/22 [==============================] - 0s 3ms/step - loss: 5.6655 - accuracy: 0.6754 - val_loss: 2.3500 - val_accuracy: 0.5977\n",
      "Epoch 58/100\n"
     ]
    },
    {
     "name": "stdout",
     "output_type": "stream",
     "text": [
      "22/22 [==============================] - 0s 3ms/step - loss: 13.8574 - accuracy: 0.6232 - val_loss: 3.9905 - val_accuracy: 0.5862\n",
      "Epoch 59/100\n",
      "22/22 [==============================] - 0s 3ms/step - loss: 11.5888 - accuracy: 0.6609 - val_loss: 5.6280 - val_accuracy: 0.6092\n",
      "Epoch 60/100\n",
      "22/22 [==============================] - 0s 2ms/step - loss: 5.5890 - accuracy: 0.6493 - val_loss: 2.8448 - val_accuracy: 0.5862\n",
      "Epoch 61/100\n",
      "22/22 [==============================] - 0s 2ms/step - loss: 10.6893 - accuracy: 0.6319 - val_loss: 5.7414 - val_accuracy: 0.6092\n",
      "Epoch 62/100\n",
      "22/22 [==============================] - 0s 2ms/step - loss: 5.8948 - accuracy: 0.6725 - val_loss: 5.4489 - val_accuracy: 0.6092\n",
      "Epoch 63/100\n",
      "22/22 [==============================] - 0s 2ms/step - loss: 4.2540 - accuracy: 0.6725 - val_loss: 2.1098 - val_accuracy: 0.5057\n",
      "Epoch 64/100\n",
      "22/22 [==============================] - 0s 2ms/step - loss: 11.1467 - accuracy: 0.6203 - val_loss: 4.9911 - val_accuracy: 0.6092\n",
      "Epoch 65/100\n",
      "22/22 [==============================] - 0s 3ms/step - loss: 11.0942 - accuracy: 0.6783 - val_loss: 3.0793 - val_accuracy: 0.6092\n",
      "Epoch 66/100\n",
      "22/22 [==============================] - 0s 2ms/step - loss: 7.0419 - accuracy: 0.6319 - val_loss: 3.7812 - val_accuracy: 0.5632\n",
      "Epoch 67/100\n",
      "22/22 [==============================] - 0s 2ms/step - loss: 9.2378 - accuracy: 0.6580 - val_loss: 3.9353 - val_accuracy: 0.6092\n",
      "Epoch 68/100\n",
      "22/22 [==============================] - 0s 2ms/step - loss: 9.0569 - accuracy: 0.6957 - val_loss: 5.9804 - val_accuracy: 0.6207\n",
      "Epoch 69/100\n",
      "22/22 [==============================] - 0s 2ms/step - loss: 3.7202 - accuracy: 0.6522 - val_loss: 12.7357 - val_accuracy: 0.4713\n",
      "Epoch 70/100\n",
      "22/22 [==============================] - 0s 2ms/step - loss: 6.1315 - accuracy: 0.6203 - val_loss: 5.2468 - val_accuracy: 0.6207\n",
      "Epoch 71/100\n",
      "22/22 [==============================] - 0s 2ms/step - loss: 3.9123 - accuracy: 0.6783 - val_loss: 8.5732 - val_accuracy: 0.4713\n",
      "Epoch 72/100\n",
      "22/22 [==============================] - 0s 3ms/step - loss: 11.4809 - accuracy: 0.6377 - val_loss: 3.0443 - val_accuracy: 0.5977\n",
      "Epoch 73/100\n",
      "22/22 [==============================] - 0s 2ms/step - loss: 6.8771 - accuracy: 0.6145 - val_loss: 2.1910 - val_accuracy: 0.6207\n",
      "Epoch 74/100\n",
      "22/22 [==============================] - 0s 2ms/step - loss: 8.3654 - accuracy: 0.6609 - val_loss: 3.8210 - val_accuracy: 0.5977\n",
      "Epoch 75/100\n",
      "22/22 [==============================] - 0s 3ms/step - loss: 9.8336 - accuracy: 0.6493 - val_loss: 7.5343 - val_accuracy: 0.4713\n",
      "Epoch 76/100\n",
      "22/22 [==============================] - 0s 2ms/step - loss: 6.0444 - accuracy: 0.6464 - val_loss: 2.5992 - val_accuracy: 0.6322\n",
      "Epoch 77/100\n",
      "22/22 [==============================] - 0s 3ms/step - loss: 2.4860 - accuracy: 0.6841 - val_loss: 2.9886 - val_accuracy: 0.5517\n",
      "Epoch 78/100\n",
      "22/22 [==============================] - 0s 2ms/step - loss: 5.1007 - accuracy: 0.6667 - val_loss: 2.3661 - val_accuracy: 0.5977\n",
      "Epoch 79/100\n",
      "22/22 [==============================] - 0s 2ms/step - loss: 3.2064 - accuracy: 0.6551 - val_loss: 1.8281 - val_accuracy: 0.5747\n",
      "Epoch 80/100\n",
      "22/22 [==============================] - 0s 2ms/step - loss: 1.8869 - accuracy: 0.6754 - val_loss: 2.8734 - val_accuracy: 0.6207\n",
      "Epoch 81/100\n",
      "22/22 [==============================] - 0s 3ms/step - loss: 6.5890 - accuracy: 0.6725 - val_loss: 3.1726 - val_accuracy: 0.4828\n",
      "Epoch 82/100\n",
      "22/22 [==============================] - 0s 2ms/step - loss: 7.7521 - accuracy: 0.6551 - val_loss: 4.4471 - val_accuracy: 0.6092\n",
      "Epoch 83/100\n",
      "22/22 [==============================] - 0s 2ms/step - loss: 7.0138 - accuracy: 0.7014 - val_loss: 1.6102 - val_accuracy: 0.5517\n",
      "Epoch 84/100\n",
      "22/22 [==============================] - 0s 2ms/step - loss: 7.9333 - accuracy: 0.6493 - val_loss: 2.1702 - val_accuracy: 0.6437\n",
      "Epoch 85/100\n",
      "22/22 [==============================] - 0s 2ms/step - loss: 8.0466 - accuracy: 0.6696 - val_loss: 1.7777 - val_accuracy: 0.5977\n",
      "Epoch 86/100\n",
      "22/22 [==============================] - 0s 2ms/step - loss: 1.9414 - accuracy: 0.7014 - val_loss: 2.2358 - val_accuracy: 0.5172\n",
      "Epoch 87/100\n",
      "22/22 [==============================] - 0s 2ms/step - loss: 3.5911 - accuracy: 0.6406 - val_loss: 2.4170 - val_accuracy: 0.6207\n",
      "Epoch 88/100\n",
      "22/22 [==============================] - 0s 2ms/step - loss: 2.5631 - accuracy: 0.6754 - val_loss: 2.2156 - val_accuracy: 0.6092\n",
      "Epoch 89/100\n",
      "22/22 [==============================] - 0s 2ms/step - loss: 2.9007 - accuracy: 0.6609 - val_loss: 3.9444 - val_accuracy: 0.5172\n",
      "Epoch 90/100\n",
      "22/22 [==============================] - 0s 2ms/step - loss: 5.6026 - accuracy: 0.6232 - val_loss: 2.7261 - val_accuracy: 0.5977\n",
      "Epoch 91/100\n",
      "22/22 [==============================] - 0s 3ms/step - loss: 5.4127 - accuracy: 0.6696 - val_loss: 5.4818 - val_accuracy: 0.5057\n",
      "Epoch 92/100\n",
      "22/22 [==============================] - 0s 2ms/step - loss: 2.9382 - accuracy: 0.6406 - val_loss: 2.8502 - val_accuracy: 0.6207\n",
      "Epoch 93/100\n",
      "22/22 [==============================] - 0s 3ms/step - loss: 4.1026 - accuracy: 0.6957 - val_loss: 2.5720 - val_accuracy: 0.5057\n",
      "Epoch 94/100\n",
      "22/22 [==============================] - 0s 3ms/step - loss: 2.9877 - accuracy: 0.6406 - val_loss: 4.0383 - val_accuracy: 0.6207\n",
      "Epoch 95/100\n",
      "22/22 [==============================] - 0s 4ms/step - loss: 3.6175 - accuracy: 0.6899 - val_loss: 2.3813 - val_accuracy: 0.6092\n",
      "Epoch 96/100\n",
      "22/22 [==============================] - 0s 3ms/step - loss: 1.6151 - accuracy: 0.6783 - val_loss: 2.2939 - val_accuracy: 0.6207\n",
      "Epoch 97/100\n",
      "22/22 [==============================] - 0s 2ms/step - loss: 1.1119 - accuracy: 0.6667 - val_loss: 3.9038 - val_accuracy: 0.5172\n",
      "Epoch 98/100\n",
      "22/22 [==============================] - 0s 2ms/step - loss: 2.9348 - accuracy: 0.6522 - val_loss: 1.7941 - val_accuracy: 0.6437\n",
      "Epoch 99/100\n",
      "22/22 [==============================] - 0s 2ms/step - loss: 5.3363 - accuracy: 0.6783 - val_loss: 3.1810 - val_accuracy: 0.6092\n",
      "Epoch 100/100\n",
      "22/22 [==============================] - 0s 3ms/step - loss: 4.2030 - accuracy: 0.6667 - val_loss: 2.4180 - val_accuracy: 0.5747\n"
     ]
    },
    {
     "data": {
      "text/plain": [
       "<keras.callbacks.History at 0x7f5b4d547670>"
      ]
     },
     "execution_count": 20,
     "metadata": {},
     "output_type": "execute_result"
    }
   ],
   "source": [
    "model1.fit(X_train, y_train, batch_size = 16, epochs=100, validation_split = 0.2)"
   ]
  },
  {
   "cell_type": "code",
   "execution_count": 21,
   "id": "2c07be0c",
   "metadata": {},
   "outputs": [
    {
     "name": "stdout",
     "output_type": "stream",
     "text": [
      "4/4 [==============================] - 0s 2ms/step - loss: 0.6942 - accuracy: 0.6481\n"
     ]
    },
    {
     "data": {
      "text/plain": [
       "[0.6941617131233215, 0.6481481194496155]"
      ]
     },
     "execution_count": 21,
     "metadata": {},
     "output_type": "execute_result"
    }
   ],
   "source": [
    "model1.evaluate(X_test, y_test)"
   ]
  },
  {
   "cell_type": "code",
   "execution_count": 22,
   "id": "af2d1f33",
   "metadata": {},
   "outputs": [],
   "source": [
    "# Getting an accuracy of 64%"
   ]
  }
 ],
 "metadata": {
  "kernelspec": {
   "display_name": "Python 3 (ipykernel)",
   "language": "python",
   "name": "python3"
  },
  "language_info": {
   "codemirror_mode": {
    "name": "ipython",
    "version": 3
   },
   "file_extension": ".py",
   "mimetype": "text/x-python",
   "name": "python",
   "nbconvert_exporter": "python",
   "pygments_lexer": "ipython3",
   "version": "3.10.6"
  }
 },
 "nbformat": 4,
 "nbformat_minor": 5
}
